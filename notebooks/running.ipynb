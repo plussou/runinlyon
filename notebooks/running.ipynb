{
 "cells": [
  {
   "cell_type": "markdown",
   "id": "extreme-subcommittee",
   "metadata": {},
   "source": [
    "### Cannonical import"
   ]
  },
  {
   "cell_type": "code",
   "execution_count": 1,
   "id": "verified-nature",
   "metadata": {},
   "outputs": [],
   "source": [
    "import sys\n",
    "sys.path.append('/home/philippe/code/plussou/runinlyon')\n",
    "\n",
    "%load_ext autoreload\n",
    "%autoreload 2 "
   ]
  },
  {
   "cell_type": "code",
   "execution_count": 3,
   "id": "drawn-italian",
   "metadata": {},
   "outputs": [],
   "source": [
    "from runinlyon.running import get_full_ranking, get_bib_results"
   ]
  },
  {
   "cell_type": "code",
   "execution_count": 4,
   "id": "moderate-contest",
   "metadata": {},
   "outputs": [],
   "source": [
    "import pandas as pd\n",
    "import numpy as np\n",
    "import re\n",
    "\n",
    "from selenium import webdriver\n",
    "from selenium.webdriver.firefox.options import Options\n",
    "\n",
    "import geckodriver_autoinstaller\n",
    "geckodriver_autoinstaller.install()\n",
    "options = Options()\n",
    "options.headless = True"
   ]
  },
  {
   "cell_type": "code",
   "execution_count": 4,
   "id": "subtle-captain",
   "metadata": {},
   "outputs": [],
   "source": [
    "import logging\n",
    "\n",
    "logging.basicConfig(filename='runinlyon.log', encoding='utf-8', level=logging.INFO)\n",
    "\n",
    "# create logger\n",
    "logger = logging.getLogger('runin_run')\n",
    "logger.setLevel(logging.DEBUG)\n",
    "\n",
    "# create file handler which logs even debug messages\n",
    "fh = logging.FileHandler('runnin.log')\n",
    "fh.setLevel(logging.DEBUG)\n",
    "\n",
    "logger.addHandler(fh)"
   ]
  },
  {
   "cell_type": "markdown",
   "id": "historical-layer",
   "metadata": {},
   "source": [
    "# 1. Getting the data "
   ]
  },
  {
   "cell_type": "markdown",
   "id": "cardiac-bristol",
   "metadata": {},
   "source": [
    "## 1.1 Getting the full ranking for a specific event\n",
    "### Call get_full_ranking function"
   ]
  },
  {
   "cell_type": "code",
   "execution_count": null,
   "id": "abroad-highway",
   "metadata": {},
   "outputs": [],
   "source": [
    "event_base = 'RunInLyon2014'\n",
    "event_specific = 'Running | 21.100 KM'\n",
    "nb_results = 9200"
   ]
  },
  {
   "cell_type": "code",
   "execution_count": 5,
   "id": "injured-limit",
   "metadata": {},
   "outputs": [],
   "source": [
    "event_base = 'RunInLyon2015'\n",
    "event_specific = 'Running | 21.100 KM'\n",
    "nb_results = 10165"
   ]
  },
  {
   "cell_type": "code",
   "execution_count": null,
   "id": "choice-services",
   "metadata": {},
   "outputs": [],
   "source": [
    "event_base = 'RunInLyon2017'\n",
    "event_specific = 'Running | 21.100 KM'\n",
    "nb_results = 11174"
   ]
  },
  {
   "cell_type": "code",
   "execution_count": 12,
   "id": "metropolitan-consideration",
   "metadata": {},
   "outputs": [],
   "source": [
    "event_base = 'RunInLyon2019'\n",
    "event_specific = 'Running | Semi-Marathon'\n",
    "nb_results = 9498"
   ]
  },
  {
   "cell_type": "code",
   "execution_count": 14,
   "id": "stainless-empire",
   "metadata": {},
   "outputs": [
    {
     "name": "stderr",
     "output_type": "stream",
     "text": [
      "INFO:runin_run:--- start get_full_ranking ---\n",
      "INFO:runin_run:url    : https://resultscui.active.com/events/RunInLyon2019\n",
      "INFO:runin_run:course : Running | Semi-Marathon\n",
      "INFO:runin_run:!! mode test !!\n",
      "INFO:runin_run:n_bib  : 5\n",
      "INFO:runin_run:From menu       :Course :\n",
      "INFO:runin_run:Selecting course:Running | Semi-Marathon\n",
      "INFO:runin_run:ready to read 10 results\n",
      "INFO:runin_run:return 10 rows result table\n"
     ]
    }
   ],
   "source": [
    "url = f'https://resultscui.active.com/events/{event_base}'\n",
    "event_df = get_full_ranking(url,event_specific,nb_results,logger,debbug=True)"
   ]
  },
  {
   "cell_type": "code",
   "execution_count": 7,
   "id": "enhanced-holiday",
   "metadata": {},
   "outputs": [
    {
     "data": {
      "text/html": [
       "<div>\n",
       "<style scoped>\n",
       "    .dataframe tbody tr th:only-of-type {\n",
       "        vertical-align: middle;\n",
       "    }\n",
       "\n",
       "    .dataframe tbody tr th {\n",
       "        vertical-align: top;\n",
       "    }\n",
       "\n",
       "    .dataframe thead th {\n",
       "        text-align: right;\n",
       "    }\n",
       "</style>\n",
       "<table border=\"1\" class=\"dataframe\">\n",
       "  <thead>\n",
       "    <tr style=\"text-align: right;\">\n",
       "      <th></th>\n",
       "      <th>bib</th>\n",
       "      <th>sex</th>\n",
       "      <th>age</th>\n",
       "      <th>time</th>\n",
       "    </tr>\n",
       "    <tr>\n",
       "      <th>rank</th>\n",
       "      <th></th>\n",
       "      <th></th>\n",
       "      <th></th>\n",
       "      <th></th>\n",
       "    </tr>\n",
       "  </thead>\n",
       "  <tbody>\n",
       "    <tr>\n",
       "      <th>1</th>\n",
       "      <td>30025</td>\n",
       "      <td>M</td>\n",
       "      <td>23</td>\n",
       "      <td>01:05:01</td>\n",
       "    </tr>\n",
       "    <tr>\n",
       "      <th>2</th>\n",
       "      <td>30024</td>\n",
       "      <td>M</td>\n",
       "      <td>23</td>\n",
       "      <td>01:07:30</td>\n",
       "    </tr>\n",
       "    <tr>\n",
       "      <th>3</th>\n",
       "      <td>30102</td>\n",
       "      <td>M</td>\n",
       "      <td>30</td>\n",
       "      <td>01:07:31</td>\n",
       "    </tr>\n",
       "    <tr>\n",
       "      <th>4</th>\n",
       "      <td>30023</td>\n",
       "      <td>M</td>\n",
       "      <td>23</td>\n",
       "      <td>01:09:16</td>\n",
       "    </tr>\n",
       "    <tr>\n",
       "      <th>5</th>\n",
       "      <td>30021</td>\n",
       "      <td>M</td>\n",
       "      <td>27</td>\n",
       "      <td>01:09:24</td>\n",
       "    </tr>\n",
       "    <tr>\n",
       "      <th>6</th>\n",
       "      <td>30030</td>\n",
       "      <td>M</td>\n",
       "      <td>22</td>\n",
       "      <td>01:09:42</td>\n",
       "    </tr>\n",
       "    <tr>\n",
       "      <th>7</th>\n",
       "      <td>30022</td>\n",
       "      <td>M</td>\n",
       "      <td>23</td>\n",
       "      <td>01:11:51</td>\n",
       "    </tr>\n",
       "    <tr>\n",
       "      <th>8</th>\n",
       "      <td>30235</td>\n",
       "      <td>M</td>\n",
       "      <td>31</td>\n",
       "      <td>01:15:09</td>\n",
       "    </tr>\n",
       "    <tr>\n",
       "      <th>9</th>\n",
       "      <td>32954</td>\n",
       "      <td>M</td>\n",
       "      <td>42</td>\n",
       "      <td>01:15:12</td>\n",
       "    </tr>\n",
       "    <tr>\n",
       "      <th>10</th>\n",
       "      <td>30119</td>\n",
       "      <td>M</td>\n",
       "      <td>39</td>\n",
       "      <td>01:15:13</td>\n",
       "    </tr>\n",
       "  </tbody>\n",
       "</table>\n",
       "</div>"
      ],
      "text/plain": [
       "        bib sex  age      time\n",
       "rank                          \n",
       "1     30025   M   23  01:05:01\n",
       "2     30024   M   23  01:07:30\n",
       "3     30102   M   30  01:07:31\n",
       "4     30023   M   23  01:09:16\n",
       "5     30021   M   27  01:09:24\n",
       "6     30030   M   22  01:09:42\n",
       "7     30022   M   23  01:11:51\n",
       "8     30235   M   31  01:15:09\n",
       "9     32954   M   42  01:15:12\n",
       "10    30119   M   39  01:15:13"
      ]
     },
     "execution_count": 7,
     "metadata": {},
     "output_type": "execute_result"
    }
   ],
   "source": [
    "event_df"
   ]
  },
  {
   "cell_type": "code",
   "execution_count": 10,
   "id": "electric-radio",
   "metadata": {},
   "outputs": [],
   "source": [
    "event_df.to_csv('../data/runinlyon_2019_base.csv')"
   ]
  },
  {
   "cell_type": "code",
   "execution_count": null,
   "id": "independent-confidentiality",
   "metadata": {},
   "outputs": [],
   "source": []
  },
  {
   "cell_type": "code",
   "execution_count": null,
   "id": "thorough-driving",
   "metadata": {},
   "outputs": [],
   "source": [
    "<select name=\"resultYear\" class=\"form-control\" onchange=\"resultYearMenu(this)\">\n",
    "\t    <option value=\"1998\">1998</option> \n",
    "\t    <option value=\"1999\">1999</option>\n",
    "\t    <option value=\"2000\">2000</option>\n",
    "...\n",
    "\t    <option value=\"2019\" selected=\"\">2019</option>   \n",
    "\t    </select>\n",
    "        \n",
    "<select name=\"resultEvent\" class=\"form-control\" onchange=\"resultEventMenu(this)\">\n",
    "\t    <option value=\"marathon\" selected=\"\">Vienna City Marathon</option>\n",
    "\t    <option value=\"halfmarathon\">Half Marathon</option>\n",
    "\t    <option value=\"relay\">Relay</option>\n",
    "\t    <option value=\"10k\">Vienna 10K</option>\n",
    "\t      <option value=\"junior\">Youth Race</option>\n",
    "\t      <option value=\"kids\">Kids Race</option>  \n",
    "\t      <option value=\"homerun\">Home Run</option> \n",
    "\t    </select>\n",
    "\n",
    "## Vienna : resultList\n",
    "\n",
    "    <div class=\"panel-heading\"> time</div>\n",
    "    <div class=\"panel-body\">\n",
    "    <div class=\"list-group\">\n",
    "<a class=\"list-group-item\">0:30-1:00</a>\n",
    "\t<a class=\"list-group-item\">1:00-1:15</a>\n",
    "\t<a class=\"list-group-item\">1:15-1:30</a>\n",
    "\t<a class=\"list-group-item\">1:30-1:45</a>\n",
    "\t<a class=\"list-group-item\">1:45-2:00</a>\n",
    "\t<a class=\"list-group-item\">2:00-</a>\n",
    "\n",
    "https://www.vienna-marathon.com/?lang=en&surl=cd162e16e318d263fd56d6261673fe72#goto-result"
   ]
  },
  {
   "cell_type": "code",
   "execution_count": 5,
   "id": "synthetic-miracle",
   "metadata": {},
   "outputs": [],
   "source": [
    "url = 'https://www.vienna-marathon.com/?lang=en&surl=cd162e16e318d263fd56d6261673fe72'\n",
    "params = {}\n",
    "\n",
    "driver = webdriver.Firefox(options=options)\n",
    "driver.get(url)"
   ]
  },
  {
   "cell_type": "code",
   "execution_count": 6,
   "id": "general-boards",
   "metadata": {},
   "outputs": [],
   "source": [
    "year_select = driver.find_element_by_name('resultYear')\n",
    "event_select = driver.find_element_by_name('resultEvent')"
   ]
  },
  {
   "cell_type": "code",
   "execution_count": 10,
   "id": "dangerous-favorite",
   "metadata": {},
   "outputs": [],
   "source": [
    "years = year_select.find_elements_by_tag_name('option')"
   ]
  },
  {
   "cell_type": "code",
   "execution_count": 13,
   "id": "macro-northern",
   "metadata": {},
   "outputs": [
    {
     "data": {
      "text/plain": [
       "22"
      ]
     },
     "execution_count": 13,
     "metadata": {},
     "output_type": "execute_result"
    }
   ],
   "source": [
    "len(years)"
   ]
  },
  {
   "cell_type": "code",
   "execution_count": 16,
   "id": "artistic-aurora",
   "metadata": {},
   "outputs": [
    {
     "data": {
      "text/plain": [
       "'1998'"
      ]
     },
     "execution_count": 16,
     "metadata": {},
     "output_type": "execute_result"
    }
   ],
   "source": [
    "years[0].text"
   ]
  },
  {
   "cell_type": "code",
   "execution_count": 25,
   "id": "hundred-zoning",
   "metadata": {},
   "outputs": [],
   "source": [
    "results_page = driver.find_element_by_id('contentResultPage')"
   ]
  },
  {
   "cell_type": "code",
   "execution_count": 30,
   "id": "democratic-westminster",
   "metadata": {},
   "outputs": [],
   "source": [
    "results_select = results_page.find_elements_by_css_selector('div.panel')"
   ]
  },
  {
   "cell_type": "code",
   "execution_count": 31,
   "id": "macro-advertiser",
   "metadata": {},
   "outputs": [
    {
     "data": {
      "text/plain": [
       "3"
      ]
     },
     "execution_count": 31,
     "metadata": {},
     "output_type": "execute_result"
    }
   ],
   "source": [
    "len(results_select)"
   ]
  },
  {
   "cell_type": "code",
   "execution_count": 38,
   "id": "linear-resort",
   "metadata": {},
   "outputs": [
    {
     "name": "stdout",
     "output_type": "stream",
     "text": [
      "- placing Woman - -1\n",
      "- placing Men - -1\n",
      "- time - 0\n"
     ]
    }
   ],
   "source": [
    "for selector in results_select:\n",
    "    label = selector.find_element_by_class_name('panel-heading').get_attribute('innerHTML').strip()\n",
    "    print('-',label,'-',label.find('time'))\n",
    "    if label.find('time')==0:\n",
    "        list_group = selector.find_element_by_class_name('list-group')"
   ]
  },
  {
   "cell_type": "code",
   "execution_count": 39,
   "id": "beautiful-railway",
   "metadata": {},
   "outputs": [],
   "source": [
    "time_range_select = list_group.find_elements_by_tag_name('a')"
   ]
  },
  {
   "cell_type": "code",
   "execution_count": 40,
   "id": "egyptian-grenada",
   "metadata": {},
   "outputs": [
    {
     "data": {
      "text/plain": [
       "6"
      ]
     },
     "execution_count": 40,
     "metadata": {},
     "output_type": "execute_result"
    }
   ],
   "source": [
    "len(time_range_select)"
   ]
  },
  {
   "cell_type": "code",
   "execution_count": 43,
   "id": "arranged-formation",
   "metadata": {},
   "outputs": [
    {
     "name": "stdout",
     "output_type": "stream",
     "text": [
      "javascript:openResultList('?wantList=2019&mara=true&time=true&VM=2:00-3:00')\n",
      "javascript:openResultList('?wantList=2019&mara=true&time=true&VM=3:00-3:30')\n",
      "javascript:openResultList('?wantList=2019&mara=true&time=true&VM=3:30-4:00')\n",
      "javascript:openResultList('?wantList=2019&mara=true&time=true&VM=4:00-4:30')\n",
      "javascript:openResultList('?wantList=2019&mara=true&time=true&VM=4:30-5:00')\n",
      "javascript:openResultList('?wantList=2019&mara=true&time=true&VM=5:00-7:00')\n"
     ]
    }
   ],
   "source": [
    "for time_range in time_range_select:\n",
    "    href= time_range.get_attribute('href')\n",
    "    print(href)"
   ]
  },
  {
   "cell_type": "code",
   "execution_count": 44,
   "id": "commercial-transcript",
   "metadata": {},
   "outputs": [],
   "source": [
    "driver.execute_script(\"arguments[0].click();\", time_range_select[0])"
   ]
  },
  {
   "cell_type": "code",
   "execution_count": null,
   "id": "romance-dealing",
   "metadata": {},
   "outputs": [],
   "source": [
    "back_menu = results_page.find 'list_group'"
   ]
  },
  {
   "cell_type": "code",
   "execution_count": 83,
   "id": "accredited-compilation",
   "metadata": {},
   "outputs": [],
   "source": [
    "tables = results_page.find_elements_by_tag_name('table')"
   ]
  },
  {
   "cell_type": "code",
   "execution_count": 84,
   "id": "surrounded-pierce",
   "metadata": {},
   "outputs": [
    {
     "data": {
      "text/plain": [
       "207"
      ]
     },
     "execution_count": 84,
     "metadata": {},
     "output_type": "execute_result"
    }
   ],
   "source": [
    "len(tables)"
   ]
  },
  {
   "cell_type": "code",
   "execution_count": 86,
   "id": "leading-acrobat",
   "metadata": {},
   "outputs": [],
   "source": [
    "sub_tables = []\n",
    "data=[]\n",
    "for table in tables:\n",
    "    subt = table.find_elements_by_tag_name('table')\n",
    "    if len(subt):\n",
    "        sub_tables.append(subt[0])\n",
    "    else:\n",
    "        rows = table.find_elements_by_tag_name('tr')\n",
    "        for row in rows:\n",
    "            data.append([])\n",
    "            cols=row.find_elements_by_tag_name('td')\n",
    "            for col in cols:\n",
    "                cell = col.text\n",
    "                data[-1].append(cell)        "
   ]
  },
  {
   "cell_type": "code",
   "execution_count": 78,
   "id": "verbal-manufacturer",
   "metadata": {},
   "outputs": [
    {
     "data": {
      "text/plain": [
       "1"
      ]
     },
     "execution_count": 78,
     "metadata": {},
     "output_type": "execute_result"
    }
   ],
   "source": [
    "len(sub_tables)"
   ]
  },
  {
   "cell_type": "code",
   "execution_count": 65,
   "id": "exciting-newsletter",
   "metadata": {},
   "outputs": [],
   "source": [
    "import pandas as pd"
   ]
  },
  {
   "cell_type": "code",
   "execution_count": 87,
   "id": "accessory-liverpool",
   "metadata": {},
   "outputs": [
    {
     "data": {
      "text/html": [
       "<div>\n",
       "<style scoped>\n",
       "    .dataframe tbody tr th:only-of-type {\n",
       "        vertical-align: middle;\n",
       "    }\n",
       "\n",
       "    .dataframe tbody tr th {\n",
       "        vertical-align: top;\n",
       "    }\n",
       "\n",
       "    .dataframe thead th {\n",
       "        text-align: right;\n",
       "    }\n",
       "</style>\n",
       "<table border=\"1\" class=\"dataframe\">\n",
       "  <thead>\n",
       "    <tr style=\"text-align: right;\">\n",
       "      <th></th>\n",
       "      <th>0</th>\n",
       "      <th>1</th>\n",
       "      <th>2</th>\n",
       "      <th>3</th>\n",
       "      <th>4</th>\n",
       "      <th>5</th>\n",
       "      <th>6</th>\n",
       "      <th>7</th>\n",
       "      <th>8</th>\n",
       "      <th>9</th>\n",
       "      <th>10</th>\n",
       "    </tr>\n",
       "  </thead>\n",
       "  <tbody>\n",
       "    <tr>\n",
       "      <th>0</th>\n",
       "      <td>None</td>\n",
       "      <td>None</td>\n",
       "      <td>None</td>\n",
       "      <td>None</td>\n",
       "      <td>None</td>\n",
       "      <td>None</td>\n",
       "      <td>None</td>\n",
       "      <td>None</td>\n",
       "      <td>None</td>\n",
       "      <td>None</td>\n",
       "      <td>None</td>\n",
       "    </tr>\n",
       "    <tr>\n",
       "      <th>1</th>\n",
       "      <td>01:03:22</td>\n",
       "      <td>01:03:35</td>\n",
       "      <td>00:14:56</td>\n",
       "      <td>00:14:57</td>\n",
       "      <td>00:14:48</td>\n",
       "      <td>00:15:23</td>\n",
       "      <td>00:15:06</td>\n",
       "      <td>00:15:27</td>\n",
       "      <td>00:15:25</td>\n",
       "      <td>00:14:37</td>\n",
       "      <td>00:06:22</td>\n",
       "    </tr>\n",
       "    <tr>\n",
       "      <th>2</th>\n",
       "      <td>01:03:22</td>\n",
       "      <td>01:04:02</td>\n",
       "      <td>00:14:56</td>\n",
       "      <td>00:14:57</td>\n",
       "      <td>00:14:50</td>\n",
       "      <td>00:15:21</td>\n",
       "      <td>00:15:06</td>\n",
       "      <td>00:15:27</td>\n",
       "      <td>00:15:24</td>\n",
       "      <td>00:14:51</td>\n",
       "      <td>00:06:35</td>\n",
       "    </tr>\n",
       "    <tr>\n",
       "      <th>3</th>\n",
       "      <td>01:03:22</td>\n",
       "      <td>01:05:03</td>\n",
       "      <td>00:14:56</td>\n",
       "      <td>00:14:58</td>\n",
       "      <td>00:14:51</td>\n",
       "      <td>00:15:19</td>\n",
       "      <td>00:15:07</td>\n",
       "      <td>00:15:27</td>\n",
       "      <td>00:15:24</td>\n",
       "      <td>00:15:22</td>\n",
       "      <td>00:07:04</td>\n",
       "    </tr>\n",
       "    <tr>\n",
       "      <th>4</th>\n",
       "      <td>01:03:23</td>\n",
       "      <td>01:05:39</td>\n",
       "      <td>00:14:57</td>\n",
       "      <td>00:14:57</td>\n",
       "      <td>00:14:50</td>\n",
       "      <td>00:15:22</td>\n",
       "      <td>00:15:05</td>\n",
       "      <td>00:15:27</td>\n",
       "      <td>00:15:26</td>\n",
       "      <td>00:15:55</td>\n",
       "      <td>00:07:06</td>\n",
       "    </tr>\n",
       "    <tr>\n",
       "      <th>...</th>\n",
       "      <td>...</td>\n",
       "      <td>...</td>\n",
       "      <td>...</td>\n",
       "      <td>...</td>\n",
       "      <td>...</td>\n",
       "      <td>...</td>\n",
       "      <td>...</td>\n",
       "      <td>...</td>\n",
       "      <td>...</td>\n",
       "      <td>...</td>\n",
       "      <td>...</td>\n",
       "    </tr>\n",
       "    <tr>\n",
       "      <th>201</th>\n",
       "      <td>01:29:06</td>\n",
       "      <td>01:30:40</td>\n",
       "      <td>00:20:58</td>\n",
       "      <td>00:21:10</td>\n",
       "      <td>00:20:53</td>\n",
       "      <td>00:21:26</td>\n",
       "      <td>00:21:08</td>\n",
       "      <td>00:21:20</td>\n",
       "      <td>00:21:47</td>\n",
       "      <td>00:21:48</td>\n",
       "      <td>00:09:18</td>\n",
       "    </tr>\n",
       "    <tr>\n",
       "      <th>202</th>\n",
       "      <td>01:28:04</td>\n",
       "      <td>01:31:44</td>\n",
       "      <td>00:20:36</td>\n",
       "      <td>00:20:42</td>\n",
       "      <td>00:20:45</td>\n",
       "      <td>00:21:25</td>\n",
       "      <td>00:20:57</td>\n",
       "      <td>00:22:10</td>\n",
       "      <td>00:22:01</td>\n",
       "      <td>00:21:56</td>\n",
       "      <td>00:09:20</td>\n",
       "    </tr>\n",
       "    <tr>\n",
       "      <th>203</th>\n",
       "      <td>01:29:58</td>\n",
       "      <td>01:29:51</td>\n",
       "      <td>00:21:51</td>\n",
       "      <td>00:21:12</td>\n",
       "      <td>00:20:48</td>\n",
       "      <td>00:21:32</td>\n",
       "      <td>00:20:57</td>\n",
       "      <td>00:21:03</td>\n",
       "      <td>00:21:22</td>\n",
       "      <td>00:21:38</td>\n",
       "      <td>00:09:30</td>\n",
       "    </tr>\n",
       "    <tr>\n",
       "      <th>204</th>\n",
       "      <td>01:26:05</td>\n",
       "      <td>01:33:52</td>\n",
       "      <td>00:20:14</td>\n",
       "      <td>00:20:26</td>\n",
       "      <td>00:20:05</td>\n",
       "      <td>00:20:55</td>\n",
       "      <td>00:20:25</td>\n",
       "      <td>00:20:54</td>\n",
       "      <td>00:22:01</td>\n",
       "      <td>00:24:14</td>\n",
       "      <td>00:10:46</td>\n",
       "    </tr>\n",
       "    <tr>\n",
       "      <th>205</th>\n",
       "      <td>01:30:21</td>\n",
       "      <td>01:29:38</td>\n",
       "      <td>00:21:36</td>\n",
       "      <td>00:21:16</td>\n",
       "      <td>00:21:07</td>\n",
       "      <td>00:21:46</td>\n",
       "      <td>00:21:05</td>\n",
       "      <td>00:21:02</td>\n",
       "      <td>00:21:35</td>\n",
       "      <td>00:21:20</td>\n",
       "      <td>00:09:15</td>\n",
       "    </tr>\n",
       "  </tbody>\n",
       "</table>\n",
       "<p>206 rows × 11 columns</p>\n",
       "</div>"
      ],
      "text/plain": [
       "           0         1         2         3         4         5         6   \\\n",
       "0        None      None      None      None      None      None      None   \n",
       "1    01:03:22  01:03:35  00:14:56  00:14:57  00:14:48  00:15:23  00:15:06   \n",
       "2    01:03:22  01:04:02  00:14:56  00:14:57  00:14:50  00:15:21  00:15:06   \n",
       "3    01:03:22  01:05:03  00:14:56  00:14:58  00:14:51  00:15:19  00:15:07   \n",
       "4    01:03:23  01:05:39  00:14:57  00:14:57  00:14:50  00:15:22  00:15:05   \n",
       "..        ...       ...       ...       ...       ...       ...       ...   \n",
       "201  01:29:06  01:30:40  00:20:58  00:21:10  00:20:53  00:21:26  00:21:08   \n",
       "202  01:28:04  01:31:44  00:20:36  00:20:42  00:20:45  00:21:25  00:20:57   \n",
       "203  01:29:58  01:29:51  00:21:51  00:21:12  00:20:48  00:21:32  00:20:57   \n",
       "204  01:26:05  01:33:52  00:20:14  00:20:26  00:20:05  00:20:55  00:20:25   \n",
       "205  01:30:21  01:29:38  00:21:36  00:21:16  00:21:07  00:21:46  00:21:05   \n",
       "\n",
       "           7         8         9         10  \n",
       "0        None      None      None      None  \n",
       "1    00:15:27  00:15:25  00:14:37  00:06:22  \n",
       "2    00:15:27  00:15:24  00:14:51  00:06:35  \n",
       "3    00:15:27  00:15:24  00:15:22  00:07:04  \n",
       "4    00:15:27  00:15:26  00:15:55  00:07:06  \n",
       "..        ...       ...       ...       ...  \n",
       "201  00:21:20  00:21:47  00:21:48  00:09:18  \n",
       "202  00:22:10  00:22:01  00:21:56  00:09:20  \n",
       "203  00:21:03  00:21:22  00:21:38  00:09:30  \n",
       "204  00:20:54  00:22:01  00:24:14  00:10:46  \n",
       "205  00:21:02  00:21:35  00:21:20  00:09:15  \n",
       "\n",
       "[206 rows x 11 columns]"
      ]
     },
     "execution_count": 87,
     "metadata": {},
     "output_type": "execute_result"
    }
   ],
   "source": [
    "data_df = pd.DataFrame(data)\n",
    "data_df"
   ]
  },
  {
   "cell_type": "code",
   "execution_count": 89,
   "id": "introductory-asset",
   "metadata": {},
   "outputs": [],
   "source": [
    "data_sub=[]\n",
    "rows = sub_tables[0].find_elements_by_tag_name('tr')\n",
    "for row in rows:\n",
    "    data_sub.append([])\n",
    "    cols=row.find_elements_by_tag_name('td')\n",
    "    for col in cols:\n",
    "        cell = col.text\n",
    "        data_sub[-1].append(cell)"
   ]
  },
  {
   "cell_type": "code",
   "execution_count": 90,
   "id": "automotive-spine",
   "metadata": {},
   "outputs": [
    {
     "data": {
      "text/html": [
       "<div>\n",
       "<style scoped>\n",
       "    .dataframe tbody tr th:only-of-type {\n",
       "        vertical-align: middle;\n",
       "    }\n",
       "\n",
       "    .dataframe tbody tr th {\n",
       "        vertical-align: top;\n",
       "    }\n",
       "\n",
       "    .dataframe thead th {\n",
       "        text-align: right;\n",
       "    }\n",
       "</style>\n",
       "<table border=\"1\" class=\"dataframe\">\n",
       "  <thead>\n",
       "    <tr style=\"text-align: right;\">\n",
       "      <th></th>\n",
       "    </tr>\n",
       "  </thead>\n",
       "  <tbody>\n",
       "    <tr>\n",
       "      <th>0</th>\n",
       "    </tr>\n",
       "  </tbody>\n",
       "</table>\n",
       "</div>"
      ],
      "text/plain": [
       "Empty DataFrame\n",
       "Columns: []\n",
       "Index: [0]"
      ]
     },
     "execution_count": 90,
     "metadata": {},
     "output_type": "execute_result"
    }
   ],
   "source": [
    "data_sub_df = pd.DataFrame(data_sub)\n",
    "data_sub_df"
   ]
  },
  {
   "cell_type": "code",
   "execution_count": 93,
   "id": "unavailable-research",
   "metadata": {},
   "outputs": [],
   "source": [
    "data_df.columns=sub_tables[0].text.split()"
   ]
  },
  {
   "cell_type": "code",
   "execution_count": 94,
   "id": "common-diana",
   "metadata": {},
   "outputs": [
    {
     "data": {
      "text/html": [
       "<div>\n",
       "<style scoped>\n",
       "    .dataframe tbody tr th:only-of-type {\n",
       "        vertical-align: middle;\n",
       "    }\n",
       "\n",
       "    .dataframe tbody tr th {\n",
       "        vertical-align: top;\n",
       "    }\n",
       "\n",
       "    .dataframe thead th {\n",
       "        text-align: right;\n",
       "    }\n",
       "</style>\n",
       "<table border=\"1\" class=\"dataframe\">\n",
       "  <thead>\n",
       "    <tr style=\"text-align: right;\">\n",
       "      <th></th>\n",
       "      <th>1.HM</th>\n",
       "      <th>2.HM</th>\n",
       "      <th>0-5km</th>\n",
       "      <th>5-10km</th>\n",
       "      <th>10-15km</th>\n",
       "      <th>15-20km</th>\n",
       "      <th>20-25km</th>\n",
       "      <th>25-30km</th>\n",
       "      <th>30-35km</th>\n",
       "      <th>35-40km</th>\n",
       "      <th>40-42km</th>\n",
       "    </tr>\n",
       "  </thead>\n",
       "  <tbody>\n",
       "    <tr>\n",
       "      <th>0</th>\n",
       "      <td>None</td>\n",
       "      <td>None</td>\n",
       "      <td>None</td>\n",
       "      <td>None</td>\n",
       "      <td>None</td>\n",
       "      <td>None</td>\n",
       "      <td>None</td>\n",
       "      <td>None</td>\n",
       "      <td>None</td>\n",
       "      <td>None</td>\n",
       "      <td>None</td>\n",
       "    </tr>\n",
       "    <tr>\n",
       "      <th>1</th>\n",
       "      <td>01:03:22</td>\n",
       "      <td>01:03:35</td>\n",
       "      <td>00:14:56</td>\n",
       "      <td>00:14:57</td>\n",
       "      <td>00:14:48</td>\n",
       "      <td>00:15:23</td>\n",
       "      <td>00:15:06</td>\n",
       "      <td>00:15:27</td>\n",
       "      <td>00:15:25</td>\n",
       "      <td>00:14:37</td>\n",
       "      <td>00:06:22</td>\n",
       "    </tr>\n",
       "    <tr>\n",
       "      <th>2</th>\n",
       "      <td>01:03:22</td>\n",
       "      <td>01:04:02</td>\n",
       "      <td>00:14:56</td>\n",
       "      <td>00:14:57</td>\n",
       "      <td>00:14:50</td>\n",
       "      <td>00:15:21</td>\n",
       "      <td>00:15:06</td>\n",
       "      <td>00:15:27</td>\n",
       "      <td>00:15:24</td>\n",
       "      <td>00:14:51</td>\n",
       "      <td>00:06:35</td>\n",
       "    </tr>\n",
       "    <tr>\n",
       "      <th>3</th>\n",
       "      <td>01:03:22</td>\n",
       "      <td>01:05:03</td>\n",
       "      <td>00:14:56</td>\n",
       "      <td>00:14:58</td>\n",
       "      <td>00:14:51</td>\n",
       "      <td>00:15:19</td>\n",
       "      <td>00:15:07</td>\n",
       "      <td>00:15:27</td>\n",
       "      <td>00:15:24</td>\n",
       "      <td>00:15:22</td>\n",
       "      <td>00:07:04</td>\n",
       "    </tr>\n",
       "    <tr>\n",
       "      <th>4</th>\n",
       "      <td>01:03:23</td>\n",
       "      <td>01:05:39</td>\n",
       "      <td>00:14:57</td>\n",
       "      <td>00:14:57</td>\n",
       "      <td>00:14:50</td>\n",
       "      <td>00:15:22</td>\n",
       "      <td>00:15:05</td>\n",
       "      <td>00:15:27</td>\n",
       "      <td>00:15:26</td>\n",
       "      <td>00:15:55</td>\n",
       "      <td>00:07:06</td>\n",
       "    </tr>\n",
       "    <tr>\n",
       "      <th>...</th>\n",
       "      <td>...</td>\n",
       "      <td>...</td>\n",
       "      <td>...</td>\n",
       "      <td>...</td>\n",
       "      <td>...</td>\n",
       "      <td>...</td>\n",
       "      <td>...</td>\n",
       "      <td>...</td>\n",
       "      <td>...</td>\n",
       "      <td>...</td>\n",
       "      <td>...</td>\n",
       "    </tr>\n",
       "    <tr>\n",
       "      <th>201</th>\n",
       "      <td>01:29:06</td>\n",
       "      <td>01:30:40</td>\n",
       "      <td>00:20:58</td>\n",
       "      <td>00:21:10</td>\n",
       "      <td>00:20:53</td>\n",
       "      <td>00:21:26</td>\n",
       "      <td>00:21:08</td>\n",
       "      <td>00:21:20</td>\n",
       "      <td>00:21:47</td>\n",
       "      <td>00:21:48</td>\n",
       "      <td>00:09:18</td>\n",
       "    </tr>\n",
       "    <tr>\n",
       "      <th>202</th>\n",
       "      <td>01:28:04</td>\n",
       "      <td>01:31:44</td>\n",
       "      <td>00:20:36</td>\n",
       "      <td>00:20:42</td>\n",
       "      <td>00:20:45</td>\n",
       "      <td>00:21:25</td>\n",
       "      <td>00:20:57</td>\n",
       "      <td>00:22:10</td>\n",
       "      <td>00:22:01</td>\n",
       "      <td>00:21:56</td>\n",
       "      <td>00:09:20</td>\n",
       "    </tr>\n",
       "    <tr>\n",
       "      <th>203</th>\n",
       "      <td>01:29:58</td>\n",
       "      <td>01:29:51</td>\n",
       "      <td>00:21:51</td>\n",
       "      <td>00:21:12</td>\n",
       "      <td>00:20:48</td>\n",
       "      <td>00:21:32</td>\n",
       "      <td>00:20:57</td>\n",
       "      <td>00:21:03</td>\n",
       "      <td>00:21:22</td>\n",
       "      <td>00:21:38</td>\n",
       "      <td>00:09:30</td>\n",
       "    </tr>\n",
       "    <tr>\n",
       "      <th>204</th>\n",
       "      <td>01:26:05</td>\n",
       "      <td>01:33:52</td>\n",
       "      <td>00:20:14</td>\n",
       "      <td>00:20:26</td>\n",
       "      <td>00:20:05</td>\n",
       "      <td>00:20:55</td>\n",
       "      <td>00:20:25</td>\n",
       "      <td>00:20:54</td>\n",
       "      <td>00:22:01</td>\n",
       "      <td>00:24:14</td>\n",
       "      <td>00:10:46</td>\n",
       "    </tr>\n",
       "    <tr>\n",
       "      <th>205</th>\n",
       "      <td>01:30:21</td>\n",
       "      <td>01:29:38</td>\n",
       "      <td>00:21:36</td>\n",
       "      <td>00:21:16</td>\n",
       "      <td>00:21:07</td>\n",
       "      <td>00:21:46</td>\n",
       "      <td>00:21:05</td>\n",
       "      <td>00:21:02</td>\n",
       "      <td>00:21:35</td>\n",
       "      <td>00:21:20</td>\n",
       "      <td>00:09:15</td>\n",
       "    </tr>\n",
       "  </tbody>\n",
       "</table>\n",
       "<p>206 rows × 11 columns</p>\n",
       "</div>"
      ],
      "text/plain": [
       "         1.HM      2.HM     0-5km    5-10km   10-15km   15-20km   20-25km  \\\n",
       "0        None      None      None      None      None      None      None   \n",
       "1    01:03:22  01:03:35  00:14:56  00:14:57  00:14:48  00:15:23  00:15:06   \n",
       "2    01:03:22  01:04:02  00:14:56  00:14:57  00:14:50  00:15:21  00:15:06   \n",
       "3    01:03:22  01:05:03  00:14:56  00:14:58  00:14:51  00:15:19  00:15:07   \n",
       "4    01:03:23  01:05:39  00:14:57  00:14:57  00:14:50  00:15:22  00:15:05   \n",
       "..        ...       ...       ...       ...       ...       ...       ...   \n",
       "201  01:29:06  01:30:40  00:20:58  00:21:10  00:20:53  00:21:26  00:21:08   \n",
       "202  01:28:04  01:31:44  00:20:36  00:20:42  00:20:45  00:21:25  00:20:57   \n",
       "203  01:29:58  01:29:51  00:21:51  00:21:12  00:20:48  00:21:32  00:20:57   \n",
       "204  01:26:05  01:33:52  00:20:14  00:20:26  00:20:05  00:20:55  00:20:25   \n",
       "205  01:30:21  01:29:38  00:21:36  00:21:16  00:21:07  00:21:46  00:21:05   \n",
       "\n",
       "      25-30km   30-35km   35-40km   40-42km  \n",
       "0        None      None      None      None  \n",
       "1    00:15:27  00:15:25  00:14:37  00:06:22  \n",
       "2    00:15:27  00:15:24  00:14:51  00:06:35  \n",
       "3    00:15:27  00:15:24  00:15:22  00:07:04  \n",
       "4    00:15:27  00:15:26  00:15:55  00:07:06  \n",
       "..        ...       ...       ...       ...  \n",
       "201  00:21:20  00:21:47  00:21:48  00:09:18  \n",
       "202  00:22:10  00:22:01  00:21:56  00:09:20  \n",
       "203  00:21:03  00:21:22  00:21:38  00:09:30  \n",
       "204  00:20:54  00:22:01  00:24:14  00:10:46  \n",
       "205  00:21:02  00:21:35  00:21:20  00:09:15  \n",
       "\n",
       "[206 rows x 11 columns]"
      ]
     },
     "execution_count": 94,
     "metadata": {},
     "output_type": "execute_result"
    }
   ],
   "source": [
    "data_df"
   ]
  },
  {
   "cell_type": "code",
   "execution_count": 108,
   "id": "english-preservation",
   "metadata": {},
   "outputs": [],
   "source": [
    "data_df['42k']=pd.to_timedelta(data_df[ '5-10km'])+pd.to_timedelta(data_df['10-15km'])+pd.to_timedelta(data_df['15-20km'])+pd.to_timedelta(data_df['20-25km'])\\\n",
    "              +pd.to_timedelta(data_df['25-30km'])+pd.to_timedelta(data_df['30-35km'])+pd.to_timedelta(data_df['35-40km'])+pd.to_timedelta(data_df['40-42km'])"
   ]
  },
  {
   "cell_type": "code",
   "execution_count": 110,
   "id": "sharing-remedy",
   "metadata": {},
   "outputs": [],
   "source": [
    "data_df['42k']=pd.to_timedelta(data_df[ '1.HM'])+pd.to_timedelta(data_df['2.HM'])"
   ]
  },
  {
   "cell_type": "code",
   "execution_count": 111,
   "id": "brave-hartford",
   "metadata": {},
   "outputs": [
    {
     "data": {
      "text/html": [
       "<div>\n",
       "<style scoped>\n",
       "    .dataframe tbody tr th:only-of-type {\n",
       "        vertical-align: middle;\n",
       "    }\n",
       "\n",
       "    .dataframe tbody tr th {\n",
       "        vertical-align: top;\n",
       "    }\n",
       "\n",
       "    .dataframe thead th {\n",
       "        text-align: right;\n",
       "    }\n",
       "</style>\n",
       "<table border=\"1\" class=\"dataframe\">\n",
       "  <thead>\n",
       "    <tr style=\"text-align: right;\">\n",
       "      <th></th>\n",
       "      <th>1.HM</th>\n",
       "      <th>2.HM</th>\n",
       "      <th>0-5km</th>\n",
       "      <th>5-10km</th>\n",
       "      <th>10-15km</th>\n",
       "      <th>15-20km</th>\n",
       "      <th>20-25km</th>\n",
       "      <th>25-30km</th>\n",
       "      <th>30-35km</th>\n",
       "      <th>35-40km</th>\n",
       "      <th>40-42km</th>\n",
       "      <th>42k</th>\n",
       "    </tr>\n",
       "  </thead>\n",
       "  <tbody>\n",
       "    <tr>\n",
       "      <th>0</th>\n",
       "      <td>None</td>\n",
       "      <td>None</td>\n",
       "      <td>None</td>\n",
       "      <td>None</td>\n",
       "      <td>None</td>\n",
       "      <td>None</td>\n",
       "      <td>None</td>\n",
       "      <td>None</td>\n",
       "      <td>None</td>\n",
       "      <td>None</td>\n",
       "      <td>None</td>\n",
       "      <td>NaT</td>\n",
       "    </tr>\n",
       "    <tr>\n",
       "      <th>1</th>\n",
       "      <td>01:03:22</td>\n",
       "      <td>01:03:35</td>\n",
       "      <td>00:14:56</td>\n",
       "      <td>00:14:57</td>\n",
       "      <td>00:14:48</td>\n",
       "      <td>00:15:23</td>\n",
       "      <td>00:15:06</td>\n",
       "      <td>00:15:27</td>\n",
       "      <td>00:15:25</td>\n",
       "      <td>00:14:37</td>\n",
       "      <td>00:06:22</td>\n",
       "      <td>0 days 02:06:57</td>\n",
       "    </tr>\n",
       "    <tr>\n",
       "      <th>2</th>\n",
       "      <td>01:03:22</td>\n",
       "      <td>01:04:02</td>\n",
       "      <td>00:14:56</td>\n",
       "      <td>00:14:57</td>\n",
       "      <td>00:14:50</td>\n",
       "      <td>00:15:21</td>\n",
       "      <td>00:15:06</td>\n",
       "      <td>00:15:27</td>\n",
       "      <td>00:15:24</td>\n",
       "      <td>00:14:51</td>\n",
       "      <td>00:06:35</td>\n",
       "      <td>0 days 02:07:24</td>\n",
       "    </tr>\n",
       "    <tr>\n",
       "      <th>3</th>\n",
       "      <td>01:03:22</td>\n",
       "      <td>01:05:03</td>\n",
       "      <td>00:14:56</td>\n",
       "      <td>00:14:58</td>\n",
       "      <td>00:14:51</td>\n",
       "      <td>00:15:19</td>\n",
       "      <td>00:15:07</td>\n",
       "      <td>00:15:27</td>\n",
       "      <td>00:15:24</td>\n",
       "      <td>00:15:22</td>\n",
       "      <td>00:07:04</td>\n",
       "      <td>0 days 02:08:25</td>\n",
       "    </tr>\n",
       "    <tr>\n",
       "      <th>4</th>\n",
       "      <td>01:03:23</td>\n",
       "      <td>01:05:39</td>\n",
       "      <td>00:14:57</td>\n",
       "      <td>00:14:57</td>\n",
       "      <td>00:14:50</td>\n",
       "      <td>00:15:22</td>\n",
       "      <td>00:15:05</td>\n",
       "      <td>00:15:27</td>\n",
       "      <td>00:15:26</td>\n",
       "      <td>00:15:55</td>\n",
       "      <td>00:07:06</td>\n",
       "      <td>0 days 02:09:02</td>\n",
       "    </tr>\n",
       "    <tr>\n",
       "      <th>...</th>\n",
       "      <td>...</td>\n",
       "      <td>...</td>\n",
       "      <td>...</td>\n",
       "      <td>...</td>\n",
       "      <td>...</td>\n",
       "      <td>...</td>\n",
       "      <td>...</td>\n",
       "      <td>...</td>\n",
       "      <td>...</td>\n",
       "      <td>...</td>\n",
       "      <td>...</td>\n",
       "      <td>...</td>\n",
       "    </tr>\n",
       "    <tr>\n",
       "      <th>201</th>\n",
       "      <td>01:29:06</td>\n",
       "      <td>01:30:40</td>\n",
       "      <td>00:20:58</td>\n",
       "      <td>00:21:10</td>\n",
       "      <td>00:20:53</td>\n",
       "      <td>00:21:26</td>\n",
       "      <td>00:21:08</td>\n",
       "      <td>00:21:20</td>\n",
       "      <td>00:21:47</td>\n",
       "      <td>00:21:48</td>\n",
       "      <td>00:09:18</td>\n",
       "      <td>0 days 02:59:46</td>\n",
       "    </tr>\n",
       "    <tr>\n",
       "      <th>202</th>\n",
       "      <td>01:28:04</td>\n",
       "      <td>01:31:44</td>\n",
       "      <td>00:20:36</td>\n",
       "      <td>00:20:42</td>\n",
       "      <td>00:20:45</td>\n",
       "      <td>00:21:25</td>\n",
       "      <td>00:20:57</td>\n",
       "      <td>00:22:10</td>\n",
       "      <td>00:22:01</td>\n",
       "      <td>00:21:56</td>\n",
       "      <td>00:09:20</td>\n",
       "      <td>0 days 02:59:48</td>\n",
       "    </tr>\n",
       "    <tr>\n",
       "      <th>203</th>\n",
       "      <td>01:29:58</td>\n",
       "      <td>01:29:51</td>\n",
       "      <td>00:21:51</td>\n",
       "      <td>00:21:12</td>\n",
       "      <td>00:20:48</td>\n",
       "      <td>00:21:32</td>\n",
       "      <td>00:20:57</td>\n",
       "      <td>00:21:03</td>\n",
       "      <td>00:21:22</td>\n",
       "      <td>00:21:38</td>\n",
       "      <td>00:09:30</td>\n",
       "      <td>0 days 02:59:49</td>\n",
       "    </tr>\n",
       "    <tr>\n",
       "      <th>204</th>\n",
       "      <td>01:26:05</td>\n",
       "      <td>01:33:52</td>\n",
       "      <td>00:20:14</td>\n",
       "      <td>00:20:26</td>\n",
       "      <td>00:20:05</td>\n",
       "      <td>00:20:55</td>\n",
       "      <td>00:20:25</td>\n",
       "      <td>00:20:54</td>\n",
       "      <td>00:22:01</td>\n",
       "      <td>00:24:14</td>\n",
       "      <td>00:10:46</td>\n",
       "      <td>0 days 02:59:57</td>\n",
       "    </tr>\n",
       "    <tr>\n",
       "      <th>205</th>\n",
       "      <td>01:30:21</td>\n",
       "      <td>01:29:38</td>\n",
       "      <td>00:21:36</td>\n",
       "      <td>00:21:16</td>\n",
       "      <td>00:21:07</td>\n",
       "      <td>00:21:46</td>\n",
       "      <td>00:21:05</td>\n",
       "      <td>00:21:02</td>\n",
       "      <td>00:21:35</td>\n",
       "      <td>00:21:20</td>\n",
       "      <td>00:09:15</td>\n",
       "      <td>0 days 02:59:59</td>\n",
       "    </tr>\n",
       "  </tbody>\n",
       "</table>\n",
       "<p>206 rows × 12 columns</p>\n",
       "</div>"
      ],
      "text/plain": [
       "         1.HM      2.HM     0-5km    5-10km   10-15km   15-20km   20-25km  \\\n",
       "0        None      None      None      None      None      None      None   \n",
       "1    01:03:22  01:03:35  00:14:56  00:14:57  00:14:48  00:15:23  00:15:06   \n",
       "2    01:03:22  01:04:02  00:14:56  00:14:57  00:14:50  00:15:21  00:15:06   \n",
       "3    01:03:22  01:05:03  00:14:56  00:14:58  00:14:51  00:15:19  00:15:07   \n",
       "4    01:03:23  01:05:39  00:14:57  00:14:57  00:14:50  00:15:22  00:15:05   \n",
       "..        ...       ...       ...       ...       ...       ...       ...   \n",
       "201  01:29:06  01:30:40  00:20:58  00:21:10  00:20:53  00:21:26  00:21:08   \n",
       "202  01:28:04  01:31:44  00:20:36  00:20:42  00:20:45  00:21:25  00:20:57   \n",
       "203  01:29:58  01:29:51  00:21:51  00:21:12  00:20:48  00:21:32  00:20:57   \n",
       "204  01:26:05  01:33:52  00:20:14  00:20:26  00:20:05  00:20:55  00:20:25   \n",
       "205  01:30:21  01:29:38  00:21:36  00:21:16  00:21:07  00:21:46  00:21:05   \n",
       "\n",
       "      25-30km   30-35km   35-40km   40-42km             42k  \n",
       "0        None      None      None      None             NaT  \n",
       "1    00:15:27  00:15:25  00:14:37  00:06:22 0 days 02:06:57  \n",
       "2    00:15:27  00:15:24  00:14:51  00:06:35 0 days 02:07:24  \n",
       "3    00:15:27  00:15:24  00:15:22  00:07:04 0 days 02:08:25  \n",
       "4    00:15:27  00:15:26  00:15:55  00:07:06 0 days 02:09:02  \n",
       "..        ...       ...       ...       ...             ...  \n",
       "201  00:21:20  00:21:47  00:21:48  00:09:18 0 days 02:59:46  \n",
       "202  00:22:10  00:22:01  00:21:56  00:09:20 0 days 02:59:48  \n",
       "203  00:21:03  00:21:22  00:21:38  00:09:30 0 days 02:59:49  \n",
       "204  00:20:54  00:22:01  00:24:14  00:10:46 0 days 02:59:57  \n",
       "205  00:21:02  00:21:35  00:21:20  00:09:15 0 days 02:59:59  \n",
       "\n",
       "[206 rows x 12 columns]"
      ]
     },
     "execution_count": 111,
     "metadata": {},
     "output_type": "execute_result"
    }
   ],
   "source": [
    "data_df"
   ]
  },
  {
   "cell_type": "code",
   "execution_count": null,
   "id": "armed-throat",
   "metadata": {},
   "outputs": [],
   "source": [
    "driver.close()"
   ]
  },
  {
   "cell_type": "code",
   "execution_count": null,
   "id": "silver-alfred",
   "metadata": {},
   "outputs": [],
   "source": []
  },
  {
   "cell_type": "code",
   "execution_count": null,
   "id": "classical-second",
   "metadata": {},
   "outputs": [],
   "source": []
  },
  {
   "cell_type": "markdown",
   "id": "threatened-registration",
   "metadata": {},
   "source": [
    "## 1.2 Getting detailed results  for all participants"
   ]
  },
  {
   "cell_type": "code",
   "execution_count": 28,
   "id": "widespread-browser",
   "metadata": {},
   "outputs": [],
   "source": [
    "df=pd.read_csv('../data/runinlyon_2019_base.csv',index_col='rank')"
   ]
  },
  {
   "cell_type": "code",
   "execution_count": 29,
   "id": "combined-nigeria",
   "metadata": {},
   "outputs": [],
   "source": [
    "df['gun_time'] = pd.Series(np.zeros(len(df)))\n",
    "df['5k_time'] = pd.Series(np.zeros(len(df)))\n",
    "df['10k_time'] = pd.Series(np.zeros(len(df)))"
   ]
  },
  {
   "cell_type": "code",
   "execution_count": 31,
   "id": "hundred-furniture",
   "metadata": {},
   "outputs": [],
   "source": [
    "event_base = 'RunInLyon2019'\n",
    "url = f'https://resultscui.active.com/events/{event_base}'\n",
    "\n",
    "driver = webdriver.Firefox(options=options)\n",
    "driver.get(url)"
   ]
  },
  {
   "cell_type": "code",
   "execution_count": 32,
   "id": "blind-headquarters",
   "metadata": {},
   "outputs": [],
   "source": [
    "## --- filling base table with detailed results\n",
    "i_i=9001\n",
    "i_f=-1\n",
    "i=i_i\n",
    "for bib in df.bib[i_i:i_f]:\n",
    "    bib_str=str(bib).replace('.0','').strip()\n",
    "    driver, results = get_bib_results(driver,bib_str)\n",
    "    if len(results)==3:\n",
    "        df.loc[i,['gun_time','5k_time','10k_time']]=results\n",
    "    i+=1"
   ]
  },
  {
   "cell_type": "code",
   "execution_count": null,
   "id": "appreciated-effects",
   "metadata": {},
   "outputs": [],
   "source": []
  },
  {
   "cell_type": "code",
   "execution_count": 58,
   "id": "thermal-little",
   "metadata": {},
   "outputs": [],
   "source": [
    "df.to_csv('../data/runinlyon_2019_full.csv')"
   ]
  },
  {
   "cell_type": "code",
   "execution_count": null,
   "id": "transsexual-mouse",
   "metadata": {},
   "outputs": [],
   "source": [
    "##--- pour mémoire\n",
    "df.loc[3:5].to_csv('toto.txt',mode='a',index=False, header=False)"
   ]
  },
  {
   "cell_type": "code",
   "execution_count": 62,
   "id": "laughing-matrix",
   "metadata": {},
   "outputs": [],
   "source": [
    "driver.close()"
   ]
  },
  {
   "cell_type": "markdown",
   "id": "dying-grain",
   "metadata": {},
   "source": [
    "## 1.3 dealing with missing values"
   ]
  },
  {
   "cell_type": "code",
   "execution_count": 59,
   "id": "every-playlist",
   "metadata": {},
   "outputs": [],
   "source": [
    "df=pd.read_csv('../data/runinlyon_2019_full.csv',index_col='rank')"
   ]
  },
  {
   "cell_type": "code",
   "execution_count": 68,
   "id": "thousand-reminder",
   "metadata": {},
   "outputs": [
    {
     "data": {
      "text/plain": [
       "Int64Index([], dtype='int64', name='rank')"
      ]
     },
     "execution_count": 68,
     "metadata": {},
     "output_type": "execute_result"
    }
   ],
   "source": [
    "w = pd.to_timedelta(df['gun_time'],errors='coerce')\n",
    "w.fillna(pd.Timedelta(seconds=0),inplace=True)\n",
    "missed_bib = df[w<pd.Timedelta(seconds=1)].index\n",
    "missed_bib"
   ]
  },
  {
   "cell_type": "code",
   "execution_count": 63,
   "id": "fifteen-academy",
   "metadata": {},
   "outputs": [],
   "source": [
    "event_base = 'RunInLyon2019'\n",
    "url = f'https://resultscui.active.com/events/{event_base}'\n",
    "\n",
    "driver = webdriver.Firefox(options=options)\n",
    "driver.get(url)"
   ]
  },
  {
   "cell_type": "code",
   "execution_count": 67,
   "id": "duplicate-comparison",
   "metadata": {},
   "outputs": [],
   "source": [
    "## --- filling missing values\n",
    "for i in missed_bib:\n",
    "    bib_str= str(df.loc[i,'bib']).replace('.0','').strip()\n",
    "    driver, results = get_bib_results(driver,bib_str)\n",
    "    if len(results)==3:\n",
    "        df.loc[i,['gun_time','5k_time','10k_time']]=results"
   ]
  },
  {
   "cell_type": "code",
   "execution_count": 70,
   "id": "flush-cassette",
   "metadata": {},
   "outputs": [],
   "source": [
    "df.to_csv('../data/runinlyon_2019_full.csv')"
   ]
  },
  {
   "cell_type": "markdown",
   "id": "south-warrior",
   "metadata": {},
   "source": [
    "# 2. Viewing the data"
   ]
  },
  {
   "cell_type": "code",
   "execution_count": 7,
   "id": "conservative-emission",
   "metadata": {},
   "outputs": [],
   "source": [
    "import matplotlib.pyplot as plt\n",
    "import seaborn as sns"
   ]
  },
  {
   "cell_type": "code",
   "execution_count": 8,
   "id": "passing-lawsuit",
   "metadata": {},
   "outputs": [],
   "source": [
    "df1=pd.read_csv('../data/runinlyon_2014_full.csv',index_col='rank')\n",
    "df2=pd.read_csv('../data/runinlyon_2019_full.csv',index_col='rank')"
   ]
  },
  {
   "cell_type": "code",
   "execution_count": 9,
   "id": "reserved-mercy",
   "metadata": {},
   "outputs": [],
   "source": [
    "df1['minutes'] = pd.to_timedelta(df1['time']).dt.seconds//60\n",
    "df1['gun_minutes'] = pd.to_timedelta(df1['gun_time']).dt.seconds//60"
   ]
  },
  {
   "cell_type": "code",
   "execution_count": 10,
   "id": "featured-eagle",
   "metadata": {},
   "outputs": [],
   "source": [
    "df1['10k_minutes'] = pd.to_timedelta(df1['10k_time'],errors='coerce').dt.seconds//60\n",
    "df1['10k_minutes'].fillna(df1['10k_minutes'].mean(),inplace=True)"
   ]
  },
  {
   "cell_type": "code",
   "execution_count": 11,
   "id": "continuing-firewall",
   "metadata": {},
   "outputs": [],
   "source": [
    "df1['5k_minutes'] = pd.to_timedelta(df1['5k_time'],errors='coerce').dt.seconds//60\n",
    "df1['5k_minutes'].fillna(df1['5k_minutes'].mean(),inplace=True)"
   ]
  },
  {
   "cell_type": "code",
   "execution_count": 12,
   "id": "residential-checklist",
   "metadata": {},
   "outputs": [],
   "source": [
    "df1['chip_gun'] = df1['gun_minutes']-df1['minutes']"
   ]
  },
  {
   "cell_type": "code",
   "execution_count": 13,
   "id": "prostate-money",
   "metadata": {},
   "outputs": [],
   "source": [
    "df1['gate10k'] = df1['gun_minutes'] - df1['minutes'] + df1['10k_minutes']\n",
    "df1['gate5k'] = df1['gun_minutes'] - df1['minutes'] + df1['5k_minutes']"
   ]
  },
  {
   "cell_type": "code",
   "execution_count": 14,
   "id": "collected-denver",
   "metadata": {},
   "outputs": [],
   "source": [
    "flow_start = df1[['bib', 'chip_gun']].groupby('chip_gun').count()\n",
    "flow_5k = df1[['bib','gate5k']].groupby('gate5k').count()\n",
    "flow_10k = df1[['bib','gate10k']].groupby('gate10k').count()\n",
    "flow_finish = df1[['bib', 'gun_minutes']].groupby('gun_minutes').count()"
   ]
  },
  {
   "cell_type": "code",
   "execution_count": 15,
   "id": "general-fellow",
   "metadata": {},
   "outputs": [
    {
     "data": {
      "text/plain": [
       "(0.0, 200.0)"
      ]
     },
     "execution_count": 15,
     "metadata": {},
     "output_type": "execute_result"
    },
    {
     "data": {
      "image/png": "[encoded data removed]",
      "text/plain": [
       "<Figure size 1152x288 with 1 Axes>"
      ]
     },
     "metadata": {
      "needs_background": "light"
     },
     "output_type": "display_data"
    }
   ],
   "source": [
    "fig,ax = plt.subplots(nrows=1,ncols=1,figsize=(16,4))\n",
    "ax.plot(flow_start,label='start')\n",
    "ax.plot(flow_5k,label='5k')\n",
    "ax.plot(flow_10k,label='10k')\n",
    "ax.plot(flow_finish,label='finish')\n",
    "ax.set_xlabel('time [mn]')\n",
    "ax.set_ylabel('nb people/min')\n",
    "ax.legend()\n",
    "ax.set_xlim([0,200])"
   ]
  },
  {
   "cell_type": "code",
   "execution_count": 16,
   "id": "worthy-arrangement",
   "metadata": {},
   "outputs": [],
   "source": [
    "fig.savefig('flow.jpg')"
   ]
  },
  {
   "cell_type": "code",
   "execution_count": 17,
   "id": "civic-characteristic",
   "metadata": {},
   "outputs": [
    {
     "name": "stdout",
     "output_type": "stream",
     "text": [
      "/home/philippe/code/plussou/runinlyon/notebooks\r\n"
     ]
    }
   ],
   "source": [
    "!pwd"
   ]
  },
  {
   "cell_type": "code",
   "execution_count": 22,
   "id": "annoying-chile",
   "metadata": {},
   "outputs": [
    {
     "data": {
      "text/plain": [
       "<matplotlib.collections.PathCollection at 0x7f38630a8280>"
      ]
     },
     "execution_count": 22,
     "metadata": {},
     "output_type": "execute_result"
    },
    {
     "data": {
      "image/png": "[encoded data removed]",
      "text/plain": [
       "<Figure size 432x288 with 1 Axes>"
      ]
     },
     "metadata": {
      "needs_background": "light"
     },
     "output_type": "display_data"
    }
   ],
   "source": [
    "plt.scatter('minutes','chip_gun',data=df1)"
   ]
  },
  {
   "cell_type": "code",
   "execution_count": 31,
   "id": "martial-retailer",
   "metadata": {},
   "outputs": [
    {
     "data": {
      "text/plain": [
       "<AxesSubplot:xlabel='chip_gun', ylabel='Count'>"
      ]
     },
     "execution_count": 31,
     "metadata": {},
     "output_type": "execute_result"
    },
    {
     "data": {
      "image/png": "[encoded data removed]",
      "text/plain": [
       "<Figure size 432x288 with 1 Axes>"
      ]
     },
     "metadata": {
      "needs_background": "light"
     },
     "output_type": "display_data"
    }
   ],
   "source": [
    "sns.histplot(df1['chip_gun'],binwidth=1)"
   ]
  },
  {
   "cell_type": "code",
   "execution_count": 79,
   "id": "little-expression",
   "metadata": {},
   "outputs": [],
   "source": [
    "df2['minutes'] = pd.to_timedelta(df2['time']).dt.seconds//60"
   ]
  },
  {
   "cell_type": "code",
   "execution_count": 80,
   "id": "handled-colonial",
   "metadata": {},
   "outputs": [
    {
     "data": {
      "text/plain": [
       "<AxesSubplot:xlabel='minutes', ylabel='Density'>"
      ]
     },
     "execution_count": 80,
     "metadata": {},
     "output_type": "execute_result"
    },
    {
     "data": {
      "image/png": "[encoded data removed]",
      "text/plain": [
       "<Figure size 432x288 with 1 Axes>"
      ]
     },
     "metadata": {
      "needs_background": "light"
     },
     "output_type": "display_data"
    }
   ],
   "source": [
    "fig,ax=plt.subplots(nrows=1,ncols=1)\n",
    "sns.kdeplot(df1['minutes'],ax=ax)\n",
    "sns.kdeplot(df2['minutes'],ax=ax)"
   ]
  }
 ],
 "metadata": {
  "kernelspec": {
   "display_name": "lewagon",
   "language": "python",
   "name": "lewagon"
  },
  "language_info": {
   "codemirror_mode": {
    "name": "ipython",
    "version": 3
   },
   "file_extension": ".py",
   "mimetype": "text/x-python",
   "name": "python",
   "nbconvert_exporter": "python",
   "pygments_lexer": "ipython3",
   "version": "3.8.6"
  }
 },
 "nbformat": 4,
 "nbformat_minor": 5
}
