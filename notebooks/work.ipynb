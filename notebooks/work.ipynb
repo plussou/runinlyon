{
 "cells": [
  {
   "cell_type": "markdown",
   "id": "educated-attitude",
   "metadata": {},
   "source": [
    "### canonical import"
   ]
  },
  {
   "cell_type": "code",
   "execution_count": 10,
   "id": "occupational-manner",
   "metadata": {},
   "outputs": [],
   "source": [
    "import sys\n",
    "sys.path.append('/home/philippe/code/plussou/runinlyon')"
   ]
  },
  {
   "cell_type": "code",
   "execution_count": 11,
   "id": "activated-bottle",
   "metadata": {},
   "outputs": [],
   "source": [
    "import pandas as pd\n",
    "import geopandas as gpd\n",
    "import descartes\n",
    "import folium\n",
    "import requests\n",
    "from bs4 import BeautifulSoup\n",
    "import pyproj\n",
    "import math\n",
    "import datetime\n",
    "import matplotlib.pyplot as plt\n",
    "\n",
    "from runinlyon.city import overlayGPX"
   ]
  },
  {
   "cell_type": "markdown",
   "id": "straight-monitor",
   "metadata": {},
   "source": [
    "### Some functions"
   ]
  },
  {
   "cell_type": "code",
   "execution_count": 12,
   "id": "organizational-christopher",
   "metadata": {},
   "outputs": [],
   "source": [
    "BASE_URI = \"https://www.metaweather.com\"\n",
    "\n",
    "def get_lat_lon(adresse):\n",
    "    url=\"https://api-adresse.data.gouv.fr/search/\"\n",
    "    params={'q':adresse}\n",
    "    response=requests.get(url,params=params).json()\n",
    "    lon, lat = response['features'][0]['geometry']['coordinates']\n",
    "    return (lat,lon)\n",
    "\n",
    "def draw_map(adresse):\n",
    "    lat,lon = get_lat_lon(adresse)\n",
    "    m = folium.Map(location=[lat,lon],zoom_start=15)\n",
    "    folium.Marker([lat,lon]).add_to(m)\n",
    "    return m\n",
    "\n",
    "def get_woeid(lat,lon):\n",
    "    url = BASE_URI + f\"/api/location/search/\"\n",
    "    params = {'lattlong':f'{lat},{lon}'}\n",
    "    response = requests.get(url,params=params).json()\n",
    "    return response[0]\n",
    "\n",
    "def new_datedatetime(row):\n",
    "    date=row[0].date()\n",
    "    time = row[1].time().replace(microsecond=0)\n",
    "    return datetime.datetime.combine(date,time)\n",
    "\n",
    "def get_temperature_one_day(woeid,year,month,day):\n",
    "    date_str = datetime.date(year,month,day).__str__().replace('-','/')\n",
    "    woeid_plus_date=str(woeid)+'/'+date_str\n",
    "    url = BASE_URI + f\"/api/location/{woeid_plus_date}/\"\n",
    "    response = requests.get(url).json()\n",
    "    temp_list=[[record['created'],record['applicable_date'],record['min_temp'],\\\n",
    "                record['max_temp'],record['the_temp']] for record in response]\n",
    "    return pd.DataFrame(temp_list,columns=['created','applicable_date','min_temp','max_temp','the_temp'])\n",
    "\n",
    "def get_temperature_many_days(woeid,year_1,month_1,day_1,year_2,month_2,day_2):\n",
    "    date_1 = datetime.date(year_1,month_1,day_1)\n",
    "    date_2 = datetime.date(year_2,month_2,day_2)\n",
    "    table = pd.DataFrame()\n",
    "    for day in range((date_2 - date_1).days+1):\n",
    "        date = date_1 + datetime.timedelta(day)\n",
    "        year = int(date.year)\n",
    "        month = int(date.month)\n",
    "        day = int(date.day)\n",
    "        table = pd.concat([table,get_temperature_one_day(woeid,year,month,day)],ignore_index=True)\n",
    "        \n",
    "    table['date']=pd.to_datetime(table['applicable_date'])\n",
    "    table['time']=pd.to_datetime(table['created'])\n",
    "    table.drop(columns=['created','applicable_date'],inplace=True)\n",
    "    table['new_date'] = table[['date','time']].apply(new_datedatetime,axis=1)\n",
    "    table.sort_values(by='new_date',inplace=True)\n",
    "    table.set_index('new_date',drop=True,inplace=True)\n",
    "    table.drop(columns=['date','time'],inplace=True)\n",
    "        \n",
    "    return table"
   ]
  },
  {
   "cell_type": "markdown",
   "id": "virgin-officer",
   "metadata": {},
   "source": [
    "# Get event results"
   ]
  },
  {
   "cell_type": "code",
   "execution_count": 2,
   "id": "authentic-process",
   "metadata": {},
   "outputs": [],
   "source": [
    "from selenium import webdriver\n",
    "from selenium.webdriver.firefox.options import Options\n",
    "import geckodriver_autoinstaller\n",
    "geckodriver_autoinstaller.install()\n",
    "\n",
    "\n",
    "import pandas as pd\n",
    "import numpy as np\n",
    "from selenium.webdriver.common.keys import Keys\n",
    "from selenium.webdriver.support.ui import WebDriverWait\n",
    "import re\n",
    "\n",
    "options = Options()\n",
    "options.headless = True"
   ]
  },
  {
   "cell_type": "code",
   "execution_count": 6,
   "id": "united-nebraska",
   "metadata": {},
   "outputs": [],
   "source": [
    "url=\"https://resultscui.active.com/events/RunInLyon2019\"\n",
    "\n",
    "driver = webdriver.Firefox(options=options)\n",
    "driver.get(url)"
   ]
  },
  {
   "cell_type": "code",
   "execution_count": 18,
   "id": "inappropriate-class",
   "metadata": {},
   "outputs": [],
   "source": [
    "view_selectors = driver.find_element_by_class_name('dropdown-group')\n",
    "drop_down_buttons = view_selectors.find_elements_by_class_name('labeled-dropdown')"
   ]
  },
  {
   "cell_type": "code",
   "execution_count": 4,
   "id": "oriental-burlington",
   "metadata": {},
   "outputs": [
    {
     "name": "stdout",
     "output_type": "stream",
     "text": [
      "Course : Running | Semi-Marathon\n",
      "Division : Overall\n",
      "View : Top 10\n"
     ]
    }
   ],
   "source": [
    "for i in range(len(drop_down_buttons)):\n",
    "    button = drop_down_buttons[i].find_element_by_class_name('dropdown__button')\n",
    "    label = drop_down_buttons[i].find_element_by_class_name('labeled-dropdown__label').text\n",
    "    value = drop_down_buttons[i].find_element_by_class_name('dropdown__button-text').text\n",
    "    print(label,value)\n",
    "\n",
    "menu = drop_down_buttons[i].find_element_by_class_name('dropdown__menu')\n",
    "menu_items = menu.find_elements_by_tag_name('li')\n",
    "\n",
    "driver.execute_script(\"arguments[0].click();\", button)\n",
    "driver.execute_script(\"arguments[0].click();\", menu_items[-1])"
   ]
  },
  {
   "cell_type": "code",
   "execution_count": 5,
   "id": "discrete-plymouth",
   "metadata": {},
   "outputs": [
    {
     "name": "stdout",
     "output_type": "stream",
     "text": [
      "100\n"
     ]
    }
   ],
   "source": [
    "n_results = len(driver.find_elements_by_class_name('event-home__item'))\n",
    "print(n_results)"
   ]
  },
  {
   "cell_type": "code",
   "execution_count": 7,
   "id": "increased-population",
   "metadata": {},
   "outputs": [],
   "source": [
    "''' step 2: load results by 50'''\n",
    "\n",
    "while n_results<9000:\n",
    "    try:\n",
    "        view_more_footer = driver.find_element_by_class_name('view-more-list__footer')\n",
    "        button = view_more_footer.find_element_by_tag_name('a')\n",
    "        driver.execute_script(\"arguments[0].click();\", button)\n",
    "        n_results = n_results + 50\n",
    "    except: # --- NoSuchElementException\n",
    "        print('waiting 10 more seconds')\n",
    "        driver.implicitly_wait(10)\n",
    "    driver.implicitly_wait(10)"
   ]
  },
  {
   "cell_type": "code",
   "execution_count": 8,
   "id": "bright-daniel",
   "metadata": {},
   "outputs": [
    {
     "name": "stdout",
     "output_type": "stream",
     "text": [
      "9000\n"
     ]
    }
   ],
   "source": [
    "'''check number of results on the page'''\n",
    "n_results = len(driver.find_elements_by_class_name('event-home__item'))\n",
    "print(n_results)"
   ]
  },
  {
   "cell_type": "code",
   "execution_count": 9,
   "id": "incredible-salad",
   "metadata": {},
   "outputs": [],
   "source": [
    "'''step 3: read results'''\n",
    "\n",
    "data = []\n",
    "for element in driver.find_elements_by_class_name('event-home__item'):\n",
    "    rank = element.find_element_by_class_name('event-home__rank').text\n",
    "    bib = element.find_element_by_class_name('event-home__bib').find_element_by_class_name('event-home__result').text\n",
    "    sex,age = element.find_element_by_class_name('event-home__person').find_element_by_class_name('event-home__info').text.split('|')\n",
    "    time = element.find_element_by_class_name('event-home__finish').find_element_by_class_name('event-home__result').text\n",
    "    data.append([rank,bib,sex.strip(), int(age.replace('Age','').strip()),time])"
   ]
  },
  {
   "cell_type": "code",
   "execution_count": 11,
   "id": "annoying-pacific",
   "metadata": {},
   "outputs": [],
   "source": [
    "driver.close()"
   ]
  },
  {
   "cell_type": "code",
   "execution_count": 3,
   "id": "micro-timer",
   "metadata": {},
   "outputs": [],
   "source": [
    "df=pd.read_csv('data/runinlyon_6.csv',index_col='rank')\n",
    "# df['gun_time'] = pd.Series(np.zeros(len(df)))\n",
    "# df['5k_time'] = pd.Series(np.zeros(len(df)))\n",
    "# df['10k_time'] = pd.Series(np.zeros(len(df)))"
   ]
  },
  {
   "cell_type": "code",
   "execution_count": 4,
   "id": "average-liverpool",
   "metadata": {},
   "outputs": [
    {
     "data": {
      "text/html": [
       "<div>\n",
       "<style scoped>\n",
       "    .dataframe tbody tr th:only-of-type {\n",
       "        vertical-align: middle;\n",
       "    }\n",
       "\n",
       "    .dataframe tbody tr th {\n",
       "        vertical-align: top;\n",
       "    }\n",
       "\n",
       "    .dataframe thead th {\n",
       "        text-align: right;\n",
       "    }\n",
       "</style>\n",
       "<table border=\"1\" class=\"dataframe\">\n",
       "  <thead>\n",
       "    <tr style=\"text-align: right;\">\n",
       "      <th></th>\n",
       "      <th>bib</th>\n",
       "      <th>sex</th>\n",
       "      <th>age</th>\n",
       "      <th>time</th>\n",
       "      <th>gun_time</th>\n",
       "      <th>5k_time</th>\n",
       "      <th>10k_time</th>\n",
       "    </tr>\n",
       "    <tr>\n",
       "      <th>rank</th>\n",
       "      <th></th>\n",
       "      <th></th>\n",
       "      <th></th>\n",
       "      <th></th>\n",
       "      <th></th>\n",
       "      <th></th>\n",
       "      <th></th>\n",
       "    </tr>\n",
       "  </thead>\n",
       "  <tbody>\n",
       "    <tr>\n",
       "      <th>1</th>\n",
       "      <td>8088</td>\n",
       "      <td>M</td>\n",
       "      <td>30</td>\n",
       "      <td>01:08:21</td>\n",
       "      <td>0.0</td>\n",
       "      <td>0.0</td>\n",
       "      <td>0.0</td>\n",
       "    </tr>\n",
       "    <tr>\n",
       "      <th>2</th>\n",
       "      <td>8149</td>\n",
       "      <td>M</td>\n",
       "      <td>29</td>\n",
       "      <td>01:08:49</td>\n",
       "      <td>0.0</td>\n",
       "      <td>0.0</td>\n",
       "      <td>0.0</td>\n",
       "    </tr>\n",
       "    <tr>\n",
       "      <th>3</th>\n",
       "      <td>8142</td>\n",
       "      <td>M</td>\n",
       "      <td>28</td>\n",
       "      <td>01:09:18</td>\n",
       "      <td>0.0</td>\n",
       "      <td>0.0</td>\n",
       "      <td>0.0</td>\n",
       "    </tr>\n",
       "    <tr>\n",
       "      <th>4</th>\n",
       "      <td>8107</td>\n",
       "      <td>M</td>\n",
       "      <td>41</td>\n",
       "      <td>01:10:23</td>\n",
       "      <td>01:10:23</td>\n",
       "      <td>00:16:18</td>\n",
       "      <td>00:32:48</td>\n",
       "    </tr>\n",
       "    <tr>\n",
       "      <th>5</th>\n",
       "      <td>7001</td>\n",
       "      <td>M</td>\n",
       "      <td>34</td>\n",
       "      <td>01:11:41</td>\n",
       "      <td>01:11:41</td>\n",
       "      <td>00:16:28</td>\n",
       "      <td>00:33:22</td>\n",
       "    </tr>\n",
       "    <tr>\n",
       "      <th>...</th>\n",
       "      <td>...</td>\n",
       "      <td>...</td>\n",
       "      <td>...</td>\n",
       "      <td>...</td>\n",
       "      <td>...</td>\n",
       "      <td>...</td>\n",
       "      <td>...</td>\n",
       "    </tr>\n",
       "    <tr>\n",
       "      <th>8996</th>\n",
       "      <td>27126</td>\n",
       "      <td>F</td>\n",
       "      <td>28</td>\n",
       "      <td>02:29:40</td>\n",
       "      <td>0.0</td>\n",
       "      <td>0.0</td>\n",
       "      <td>0.0</td>\n",
       "    </tr>\n",
       "    <tr>\n",
       "      <th>8997</th>\n",
       "      <td>24949</td>\n",
       "      <td>M</td>\n",
       "      <td>25</td>\n",
       "      <td>02:29:40</td>\n",
       "      <td>0.0</td>\n",
       "      <td>0.0</td>\n",
       "      <td>0.0</td>\n",
       "    </tr>\n",
       "    <tr>\n",
       "      <th>8998</th>\n",
       "      <td>27130</td>\n",
       "      <td>F</td>\n",
       "      <td>26</td>\n",
       "      <td>02:29:40</td>\n",
       "      <td>0.0</td>\n",
       "      <td>0.0</td>\n",
       "      <td>0.0</td>\n",
       "    </tr>\n",
       "    <tr>\n",
       "      <th>8999</th>\n",
       "      <td>27628</td>\n",
       "      <td>F</td>\n",
       "      <td>27</td>\n",
       "      <td>02:29:44</td>\n",
       "      <td>0.0</td>\n",
       "      <td>0.0</td>\n",
       "      <td>0.0</td>\n",
       "    </tr>\n",
       "    <tr>\n",
       "      <th>9000</th>\n",
       "      <td>20891</td>\n",
       "      <td>M</td>\n",
       "      <td>51</td>\n",
       "      <td>02:29:46</td>\n",
       "      <td>0.0</td>\n",
       "      <td>0.0</td>\n",
       "      <td>0.0</td>\n",
       "    </tr>\n",
       "  </tbody>\n",
       "</table>\n",
       "<p>9000 rows × 7 columns</p>\n",
       "</div>"
      ],
      "text/plain": [
       "        bib sex  age      time  gun_time   5k_time  10k_time\n",
       "rank                                                        \n",
       "1      8088   M   30  01:08:21       0.0       0.0       0.0\n",
       "2      8149   M   29  01:08:49       0.0       0.0       0.0\n",
       "3      8142   M   28  01:09:18       0.0       0.0       0.0\n",
       "4      8107   M   41  01:10:23  01:10:23  00:16:18  00:32:48\n",
       "5      7001   M   34  01:11:41  01:11:41  00:16:28  00:33:22\n",
       "...     ...  ..  ...       ...       ...       ...       ...\n",
       "8996  27126   F   28  02:29:40       0.0       0.0       0.0\n",
       "8997  24949   M   25  02:29:40       0.0       0.0       0.0\n",
       "8998  27130   F   26  02:29:40       0.0       0.0       0.0\n",
       "8999  27628   F   27  02:29:44       0.0       0.0       0.0\n",
       "9000  20891   M   51  02:29:46       0.0       0.0       0.0\n",
       "\n",
       "[9000 rows x 7 columns]"
      ]
     },
     "execution_count": 4,
     "metadata": {},
     "output_type": "execute_result"
    }
   ],
   "source": [
    "df"
   ]
  },
  {
   "cell_type": "code",
   "execution_count": 5,
   "id": "automotive-lloyd",
   "metadata": {},
   "outputs": [
    {
     "data": {
      "text/plain": [
       "3018"
      ]
     },
     "execution_count": 5,
     "metadata": {},
     "output_type": "execute_result"
    }
   ],
   "source": [
    "df['gun_time'].value_counts()[0]"
   ]
  },
  {
   "cell_type": "code",
   "execution_count": 6,
   "id": "norman-hanging",
   "metadata": {},
   "outputs": [],
   "source": [
    "url=\"https://resultscui.active.com/events/RunInLyon2019\"\n",
    "\n",
    "driver = webdriver.Firefox(options=options)\n",
    "driver.get(url)"
   ]
  },
  {
   "cell_type": "code",
   "execution_count": 52,
   "id": "governing-advertising",
   "metadata": {},
   "outputs": [
    {
     "data": {
      "text/plain": [
       "Int64Index([   1,  681,  682, 1284, 1285, 1441, 1822, 1823, 1824, 2322, 2323,\n",
       "            2324, 2325, 2326, 2786, 3130, 3357, 3392, 3393, 4000, 4646, 4647,\n",
       "            4648, 5270, 5271, 5272, 5468, 5835, 7201, 7384, 7517, 8013, 8015,\n",
       "            8423, 8425, 9000],\n",
       "           dtype='int64', name='rank')"
      ]
     },
     "execution_count": 52,
     "metadata": {},
     "output_type": "execute_result"
    }
   ],
   "source": [
    "missed_bib"
   ]
  },
  {
   "cell_type": "code",
   "execution_count": 53,
   "id": "allied-lying",
   "metadata": {},
   "outputs": [],
   "source": [
    "bib_not_found = []\n",
    "for i in missed_bib:\n",
    "\n",
    "    input_found = False\n",
    "    while not input_found:\n",
    "        input_found = True\n",
    "        try :\n",
    "            bib_input = driver.find_element_by_class_name('input')\n",
    "        except :\n",
    "            input_found = False\n",
    "            driver.implicitly_wait(5)\n",
    "        \n",
    "    bib_input.send_keys(str(df.bib[i]))\n",
    "    bib_input.send_keys(Keys.ENTER)\n",
    "    \n",
    "    participants_found = False\n",
    "    while not participants_found :\n",
    "        participants_found = True\n",
    "        try:\n",
    "            participants = driver.find_elements_by_class_name(\"search-participant-list-item\")\n",
    "        except:\n",
    "            participants_found = False\n",
    "            driver.implicitly_wait(5)\n",
    "        \n",
    "    if len(participants)>=1:\n",
    "        links = participants[0].find_elements_by_tag_name('a')\n",
    "        driver.execute_script(\"arguments[0].click();\", links[0])\n",
    "        driver.implicitly_wait(2)\n",
    "        \n",
    "        result_card = driver.find_elements_by_class_name('result-data--data-number')\n",
    "#        print(len(result_card))\n",
    "        result_split = driver.find_elements_by_class_name('result-cell')\n",
    "        \n",
    "        if len(result_card)>=2:\n",
    "            chip_time = result_card[0].text\n",
    "            gun_time = result_card[1].text\n",
    "        else:\n",
    "            gun_time = 0\n",
    "#        print(gun_time)\n",
    "        df.loc[i,'gun_time']=gun_time\n",
    "\n",
    "        time_steps=[]\n",
    "        for result in result_split:\n",
    "            time_label = result.find_element_by_class_name('result-cell-title').text\n",
    "            if 'Total' in time_label:\n",
    "                time_steps.append(result.find_element_by_class_name('result-cell-content').text)\n",
    "    \n",
    "        if len(time_steps)>=2:\n",
    "            df.loc[i,['5k_time','10k_time']]= time_steps[0:2]\n",
    "\n",
    "        input_found = False\n",
    "        while not input_found:\n",
    "            input_found = True\n",
    "            try :\n",
    "                bib_input = driver.find_element_by_class_name('input')\n",
    "                bib_input.clear()\n",
    "            except :\n",
    "                input_found = False\n",
    "                driver.implicitly_wait(5)\n",
    "        \n",
    "    else:\n",
    "        bib_not_found.append(df.bib[i])\n",
    "        input_found = False\n",
    "        while not input_found:\n",
    "            input_found = True\n",
    "            try :\n",
    "                bib_input = driver.find_element_by_class_name('input')\n",
    "                bib_input.clear()\n",
    "            except :\n",
    "                input_found = False\n",
    "                driver.implicitly_wait(5)\n"
   ]
  },
  {
   "cell_type": "code",
   "execution_count": 54,
   "id": "dental-caribbean",
   "metadata": {},
   "outputs": [
    {
     "data": {
      "text/html": [
       "<div>\n",
       "<style scoped>\n",
       "    .dataframe tbody tr th:only-of-type {\n",
       "        vertical-align: middle;\n",
       "    }\n",
       "\n",
       "    .dataframe tbody tr th {\n",
       "        vertical-align: top;\n",
       "    }\n",
       "\n",
       "    .dataframe thead th {\n",
       "        text-align: right;\n",
       "    }\n",
       "</style>\n",
       "<table border=\"1\" class=\"dataframe\">\n",
       "  <thead>\n",
       "    <tr style=\"text-align: right;\">\n",
       "      <th></th>\n",
       "      <th>bib</th>\n",
       "      <th>sex</th>\n",
       "      <th>age</th>\n",
       "      <th>time</th>\n",
       "      <th>gun_time</th>\n",
       "      <th>5k_time</th>\n",
       "      <th>10k_time</th>\n",
       "    </tr>\n",
       "    <tr>\n",
       "      <th>rank</th>\n",
       "      <th></th>\n",
       "      <th></th>\n",
       "      <th></th>\n",
       "      <th></th>\n",
       "      <th></th>\n",
       "      <th></th>\n",
       "      <th></th>\n",
       "    </tr>\n",
       "  </thead>\n",
       "  <tbody>\n",
       "    <tr>\n",
       "      <th>1</th>\n",
       "      <td>8088</td>\n",
       "      <td>M</td>\n",
       "      <td>30</td>\n",
       "      <td>01:08:21</td>\n",
       "      <td>01:08:21</td>\n",
       "      <td>00:15:42</td>\n",
       "      <td>00:32:01</td>\n",
       "    </tr>\n",
       "    <tr>\n",
       "      <th>2</th>\n",
       "      <td>8149</td>\n",
       "      <td>M</td>\n",
       "      <td>29</td>\n",
       "      <td>01:08:49</td>\n",
       "      <td>01:08:49</td>\n",
       "      <td>00:15:42</td>\n",
       "      <td>00:32:01</td>\n",
       "    </tr>\n",
       "    <tr>\n",
       "      <th>3</th>\n",
       "      <td>8142</td>\n",
       "      <td>M</td>\n",
       "      <td>28</td>\n",
       "      <td>01:09:18</td>\n",
       "      <td>01:09:18</td>\n",
       "      <td>00:15:42</td>\n",
       "      <td>00:32:12</td>\n",
       "    </tr>\n",
       "    <tr>\n",
       "      <th>4</th>\n",
       "      <td>8107</td>\n",
       "      <td>M</td>\n",
       "      <td>41</td>\n",
       "      <td>01:10:23</td>\n",
       "      <td>01:10:23</td>\n",
       "      <td>00:16:18</td>\n",
       "      <td>00:32:48</td>\n",
       "    </tr>\n",
       "    <tr>\n",
       "      <th>5</th>\n",
       "      <td>7001</td>\n",
       "      <td>M</td>\n",
       "      <td>34</td>\n",
       "      <td>01:11:41</td>\n",
       "      <td>01:11:41</td>\n",
       "      <td>00:16:28</td>\n",
       "      <td>00:33:22</td>\n",
       "    </tr>\n",
       "    <tr>\n",
       "      <th>...</th>\n",
       "      <td>...</td>\n",
       "      <td>...</td>\n",
       "      <td>...</td>\n",
       "      <td>...</td>\n",
       "      <td>...</td>\n",
       "      <td>...</td>\n",
       "      <td>...</td>\n",
       "    </tr>\n",
       "    <tr>\n",
       "      <th>8996</th>\n",
       "      <td>27126</td>\n",
       "      <td>F</td>\n",
       "      <td>28</td>\n",
       "      <td>02:29:40</td>\n",
       "      <td>03:28:51</td>\n",
       "      <td>00:36:22</td>\n",
       "      <td>01:12:10</td>\n",
       "    </tr>\n",
       "    <tr>\n",
       "      <th>8997</th>\n",
       "      <td>24949</td>\n",
       "      <td>M</td>\n",
       "      <td>25</td>\n",
       "      <td>02:29:40</td>\n",
       "      <td>03:28:51</td>\n",
       "      <td>00:36:22</td>\n",
       "      <td>01:12:09</td>\n",
       "    </tr>\n",
       "    <tr>\n",
       "      <th>8998</th>\n",
       "      <td>27130</td>\n",
       "      <td>F</td>\n",
       "      <td>26</td>\n",
       "      <td>02:29:40</td>\n",
       "      <td>03:28:51</td>\n",
       "      <td>00:36:22</td>\n",
       "      <td>01:12:10</td>\n",
       "    </tr>\n",
       "    <tr>\n",
       "      <th>8999</th>\n",
       "      <td>27628</td>\n",
       "      <td>F</td>\n",
       "      <td>27</td>\n",
       "      <td>02:29:44</td>\n",
       "      <td>03:28:05</td>\n",
       "      <td>00:32:30</td>\n",
       "      <td>01:05:51</td>\n",
       "    </tr>\n",
       "    <tr>\n",
       "      <th>9000</th>\n",
       "      <td>20891</td>\n",
       "      <td>M</td>\n",
       "      <td>51</td>\n",
       "      <td>02:29:46</td>\n",
       "      <td>03:14:57</td>\n",
       "      <td>00:32:30</td>\n",
       "      <td>01:05:58</td>\n",
       "    </tr>\n",
       "  </tbody>\n",
       "</table>\n",
       "<p>9000 rows × 7 columns</p>\n",
       "</div>"
      ],
      "text/plain": [
       "        bib sex  age      time  gun_time   5k_time  10k_time\n",
       "rank                                                        \n",
       "1      8088   M   30  01:08:21  01:08:21  00:15:42  00:32:01\n",
       "2      8149   M   29  01:08:49  01:08:49  00:15:42  00:32:01\n",
       "3      8142   M   28  01:09:18  01:09:18  00:15:42  00:32:12\n",
       "4      8107   M   41  01:10:23  01:10:23  00:16:18  00:32:48\n",
       "5      7001   M   34  01:11:41  01:11:41  00:16:28  00:33:22\n",
       "...     ...  ..  ...       ...       ...       ...       ...\n",
       "8996  27126   F   28  02:29:40  03:28:51  00:36:22  01:12:10\n",
       "8997  24949   M   25  02:29:40  03:28:51  00:36:22  01:12:09\n",
       "8998  27130   F   26  02:29:40  03:28:51  00:36:22  01:12:10\n",
       "8999  27628   F   27  02:29:44  03:28:05  00:32:30  01:05:51\n",
       "9000  20891   M   51  02:29:46  03:14:57  00:32:30  01:05:58\n",
       "\n",
       "[9000 rows x 7 columns]"
      ]
     },
     "execution_count": 54,
     "metadata": {},
     "output_type": "execute_result"
    }
   ],
   "source": [
    "df"
   ]
  },
  {
   "cell_type": "code",
   "execution_count": 56,
   "id": "universal-warrior",
   "metadata": {},
   "outputs": [],
   "source": [
    "w = pd.to_timedelta(df['gun_time'],errors='coerce')\n",
    "w.fillna(pd.Timedelta(seconds=0),inplace=True)"
   ]
  },
  {
   "cell_type": "code",
   "execution_count": 57,
   "id": "sexual-country",
   "metadata": {},
   "outputs": [
    {
     "data": {
      "text/plain": [
       "Int64Index([], dtype='int64', name='rank')"
      ]
     },
     "execution_count": 57,
     "metadata": {},
     "output_type": "execute_result"
    }
   ],
   "source": [
    "missed_bib = df[w<pd.Timedelta(seconds=1)].index\n",
    "missed_bib"
   ]
  },
  {
   "cell_type": "code",
   "execution_count": 55,
   "id": "passive-enclosure",
   "metadata": {},
   "outputs": [
    {
     "data": {
      "text/plain": [
       "0"
      ]
     },
     "execution_count": 55,
     "metadata": {},
     "output_type": "execute_result"
    }
   ],
   "source": [
    "len(bib_not_found)"
   ]
  },
  {
   "cell_type": "code",
   "execution_count": 12,
   "id": "caroline-christianity",
   "metadata": {},
   "outputs": [
    {
     "data": {
      "text/plain": [
       "Index(['bib', 'sex', 'age', 'time', 'gun_time', '5k_time', '10k_time'], dtype='object')"
      ]
     },
     "execution_count": 12,
     "metadata": {},
     "output_type": "execute_result"
    }
   ],
   "source": [
    "df.keys()"
   ]
  },
  {
   "cell_type": "code",
   "execution_count": 23,
   "id": "spanish-williams",
   "metadata": {},
   "outputs": [
    {
     "data": {
      "text/html": [
       "<div>\n",
       "<style scoped>\n",
       "    .dataframe tbody tr th:only-of-type {\n",
       "        vertical-align: middle;\n",
       "    }\n",
       "\n",
       "    .dataframe tbody tr th {\n",
       "        vertical-align: top;\n",
       "    }\n",
       "\n",
       "    .dataframe thead th {\n",
       "        text-align: right;\n",
       "    }\n",
       "</style>\n",
       "<table border=\"1\" class=\"dataframe\">\n",
       "  <thead>\n",
       "    <tr style=\"text-align: right;\">\n",
       "      <th></th>\n",
       "      <th>bib</th>\n",
       "      <th>sex</th>\n",
       "      <th>age</th>\n",
       "      <th>time</th>\n",
       "      <th>gun_time</th>\n",
       "      <th>5k_time</th>\n",
       "      <th>10k_time</th>\n",
       "    </tr>\n",
       "    <tr>\n",
       "      <th>rank</th>\n",
       "      <th></th>\n",
       "      <th></th>\n",
       "      <th></th>\n",
       "      <th></th>\n",
       "      <th></th>\n",
       "      <th></th>\n",
       "      <th></th>\n",
       "    </tr>\n",
       "  </thead>\n",
       "  <tbody>\n",
       "    <tr>\n",
       "      <th>1</th>\n",
       "      <td>8088</td>\n",
       "      <td>M</td>\n",
       "      <td>30</td>\n",
       "      <td>01:08:21</td>\n",
       "      <td>0.0</td>\n",
       "      <td>0.0</td>\n",
       "      <td>0.0</td>\n",
       "    </tr>\n",
       "    <tr>\n",
       "      <th>2</th>\n",
       "      <td>8149</td>\n",
       "      <td>M</td>\n",
       "      <td>29</td>\n",
       "      <td>01:08:49</td>\n",
       "      <td>01:08:49</td>\n",
       "      <td>00:15:42</td>\n",
       "      <td>00:32:01</td>\n",
       "    </tr>\n",
       "    <tr>\n",
       "      <th>3</th>\n",
       "      <td>8142</td>\n",
       "      <td>M</td>\n",
       "      <td>28</td>\n",
       "      <td>01:09:18</td>\n",
       "      <td>01:09:18</td>\n",
       "      <td>00:15:42</td>\n",
       "      <td>00:32:12</td>\n",
       "    </tr>\n",
       "    <tr>\n",
       "      <th>4</th>\n",
       "      <td>8107</td>\n",
       "      <td>M</td>\n",
       "      <td>41</td>\n",
       "      <td>01:10:23</td>\n",
       "      <td>01:10:23</td>\n",
       "      <td>00:16:18</td>\n",
       "      <td>00:32:48</td>\n",
       "    </tr>\n",
       "    <tr>\n",
       "      <th>5</th>\n",
       "      <td>7001</td>\n",
       "      <td>M</td>\n",
       "      <td>34</td>\n",
       "      <td>01:11:41</td>\n",
       "      <td>01:11:41</td>\n",
       "      <td>00:16:28</td>\n",
       "      <td>00:33:22</td>\n",
       "    </tr>\n",
       "    <tr>\n",
       "      <th>...</th>\n",
       "      <td>...</td>\n",
       "      <td>...</td>\n",
       "      <td>...</td>\n",
       "      <td>...</td>\n",
       "      <td>...</td>\n",
       "      <td>...</td>\n",
       "      <td>...</td>\n",
       "    </tr>\n",
       "    <tr>\n",
       "      <th>8996</th>\n",
       "      <td>27126</td>\n",
       "      <td>F</td>\n",
       "      <td>28</td>\n",
       "      <td>02:29:40</td>\n",
       "      <td>03:28:51</td>\n",
       "      <td>00:36:22</td>\n",
       "      <td>01:12:10</td>\n",
       "    </tr>\n",
       "    <tr>\n",
       "      <th>8997</th>\n",
       "      <td>24949</td>\n",
       "      <td>M</td>\n",
       "      <td>25</td>\n",
       "      <td>02:29:40</td>\n",
       "      <td>03:28:51</td>\n",
       "      <td>00:36:22</td>\n",
       "      <td>01:12:09</td>\n",
       "    </tr>\n",
       "    <tr>\n",
       "      <th>8998</th>\n",
       "      <td>27130</td>\n",
       "      <td>F</td>\n",
       "      <td>26</td>\n",
       "      <td>02:29:40</td>\n",
       "      <td>03:28:51</td>\n",
       "      <td>00:36:22</td>\n",
       "      <td>01:12:10</td>\n",
       "    </tr>\n",
       "    <tr>\n",
       "      <th>8999</th>\n",
       "      <td>27628</td>\n",
       "      <td>F</td>\n",
       "      <td>27</td>\n",
       "      <td>02:29:44</td>\n",
       "      <td>03:28:05</td>\n",
       "      <td>00:32:30</td>\n",
       "      <td>01:05:51</td>\n",
       "    </tr>\n",
       "    <tr>\n",
       "      <th>9000</th>\n",
       "      <td>20891</td>\n",
       "      <td>M</td>\n",
       "      <td>51</td>\n",
       "      <td>02:29:46</td>\n",
       "      <td>0.0</td>\n",
       "      <td>0.0</td>\n",
       "      <td>0.0</td>\n",
       "    </tr>\n",
       "  </tbody>\n",
       "</table>\n",
       "<p>9000 rows × 7 columns</p>\n",
       "</div>"
      ],
      "text/plain": [
       "        bib sex  age      time  gun_time   5k_time  10k_time\n",
       "rank                                                        \n",
       "1      8088   M   30  01:08:21       0.0       0.0       0.0\n",
       "2      8149   M   29  01:08:49  01:08:49  00:15:42  00:32:01\n",
       "3      8142   M   28  01:09:18  01:09:18  00:15:42  00:32:12\n",
       "4      8107   M   41  01:10:23  01:10:23  00:16:18  00:32:48\n",
       "5      7001   M   34  01:11:41  01:11:41  00:16:28  00:33:22\n",
       "...     ...  ..  ...       ...       ...       ...       ...\n",
       "8996  27126   F   28  02:29:40  03:28:51  00:36:22  01:12:10\n",
       "8997  24949   M   25  02:29:40  03:28:51  00:36:22  01:12:09\n",
       "8998  27130   F   26  02:29:40  03:28:51  00:36:22  01:12:10\n",
       "8999  27628   F   27  02:29:44  03:28:05  00:32:30  01:05:51\n",
       "9000  20891   M   51  02:29:46       0.0       0.0       0.0\n",
       "\n",
       "[9000 rows x 7 columns]"
      ]
     },
     "execution_count": 23,
     "metadata": {},
     "output_type": "execute_result"
    }
   ],
   "source": [
    "df"
   ]
  },
  {
   "cell_type": "code",
   "execution_count": 11,
   "id": "appointed-shanghai",
   "metadata": {},
   "outputs": [],
   "source": [
    "df.set_index('rank',inplace=True)"
   ]
  },
  {
   "cell_type": "code",
   "execution_count": 12,
   "id": "completed-patrick",
   "metadata": {},
   "outputs": [],
   "source": [
    "df.drop(columns=['id'],inplace=True)"
   ]
  },
  {
   "cell_type": "code",
   "execution_count": 58,
   "id": "objective-cylinder",
   "metadata": {},
   "outputs": [],
   "source": [
    "df.to_csv('runinlyon_9.csv')"
   ]
  },
  {
   "cell_type": "code",
   "execution_count": 59,
   "id": "assumed-perry",
   "metadata": {},
   "outputs": [],
   "source": [
    "driver.close()"
   ]
  },
  {
   "cell_type": "code",
   "execution_count": null,
   "id": "recreational-jacob",
   "metadata": {},
   "outputs": [],
   "source": []
  },
  {
   "cell_type": "code",
   "execution_count": null,
   "id": "gorgeous-aircraft",
   "metadata": {},
   "outputs": [],
   "source": []
  },
  {
   "cell_type": "code",
   "execution_count": 19,
   "id": "duplicate-wyoming",
   "metadata": {},
   "outputs": [
    {
     "data": {
      "text/html": [
       "<div>\n",
       "<style scoped>\n",
       "    .dataframe tbody tr th:only-of-type {\n",
       "        vertical-align: middle;\n",
       "    }\n",
       "\n",
       "    .dataframe tbody tr th {\n",
       "        vertical-align: top;\n",
       "    }\n",
       "\n",
       "    .dataframe thead th {\n",
       "        text-align: right;\n",
       "    }\n",
       "</style>\n",
       "<table border=\"1\" class=\"dataframe\">\n",
       "  <thead>\n",
       "    <tr style=\"text-align: right;\">\n",
       "      <th></th>\n",
       "      <th>bib</th>\n",
       "      <th>sex</th>\n",
       "      <th>age</th>\n",
       "      <th>time</th>\n",
       "      <th>gun_time</th>\n",
       "      <th>5k_time</th>\n",
       "      <th>10k_time</th>\n",
       "    </tr>\n",
       "    <tr>\n",
       "      <th>rank</th>\n",
       "      <th></th>\n",
       "      <th></th>\n",
       "      <th></th>\n",
       "      <th></th>\n",
       "      <th></th>\n",
       "      <th></th>\n",
       "      <th></th>\n",
       "    </tr>\n",
       "  </thead>\n",
       "  <tbody>\n",
       "    <tr>\n",
       "      <th>1</th>\n",
       "      <td>8088</td>\n",
       "      <td>M</td>\n",
       "      <td>30</td>\n",
       "      <td>01:08:21</td>\n",
       "      <td>0.0</td>\n",
       "      <td>0.0</td>\n",
       "      <td>0.0</td>\n",
       "    </tr>\n",
       "    <tr>\n",
       "      <th>2</th>\n",
       "      <td>8149</td>\n",
       "      <td>M</td>\n",
       "      <td>29</td>\n",
       "      <td>01:08:49</td>\n",
       "      <td>0.0</td>\n",
       "      <td>0.0</td>\n",
       "      <td>0.0</td>\n",
       "    </tr>\n",
       "    <tr>\n",
       "      <th>3</th>\n",
       "      <td>8142</td>\n",
       "      <td>M</td>\n",
       "      <td>28</td>\n",
       "      <td>01:09:18</td>\n",
       "      <td>0.0</td>\n",
       "      <td>0.0</td>\n",
       "      <td>0.0</td>\n",
       "    </tr>\n",
       "    <tr>\n",
       "      <th>4</th>\n",
       "      <td>8107</td>\n",
       "      <td>M</td>\n",
       "      <td>41</td>\n",
       "      <td>01:10:23</td>\n",
       "      <td>01:10:23</td>\n",
       "      <td>00:16:18</td>\n",
       "      <td>00:32:48</td>\n",
       "    </tr>\n",
       "    <tr>\n",
       "      <th>5</th>\n",
       "      <td>7001</td>\n",
       "      <td>M</td>\n",
       "      <td>34</td>\n",
       "      <td>01:11:41</td>\n",
       "      <td>01:11:41</td>\n",
       "      <td>00:16:28</td>\n",
       "      <td>00:33:22</td>\n",
       "    </tr>\n",
       "  </tbody>\n",
       "</table>\n",
       "</div>"
      ],
      "text/plain": [
       "       bib sex  age      time  gun_time   5k_time  10k_time\n",
       "rank                                                       \n",
       "1     8088   M   30  01:08:21       0.0       0.0       0.0\n",
       "2     8149   M   29  01:08:49       0.0       0.0       0.0\n",
       "3     8142   M   28  01:09:18       0.0       0.0       0.0\n",
       "4     8107   M   41  01:10:23  01:10:23  00:16:18  00:32:48\n",
       "5     7001   M   34  01:11:41  01:11:41  00:16:28  00:33:22"
      ]
     },
     "execution_count": 19,
     "metadata": {},
     "output_type": "execute_result"
    }
   ],
   "source": [
    "df.head()"
   ]
  },
  {
   "cell_type": "code",
   "execution_count": 13,
   "id": "floating-mozambique",
   "metadata": {},
   "outputs": [
    {
     "data": {
      "text/html": [
       "<div>\n",
       "<style scoped>\n",
       "    .dataframe tbody tr th:only-of-type {\n",
       "        vertical-align: middle;\n",
       "    }\n",
       "\n",
       "    .dataframe tbody tr th {\n",
       "        vertical-align: top;\n",
       "    }\n",
       "\n",
       "    .dataframe thead th {\n",
       "        text-align: right;\n",
       "    }\n",
       "</style>\n",
       "<table border=\"1\" class=\"dataframe\">\n",
       "  <thead>\n",
       "    <tr style=\"text-align: right;\">\n",
       "      <th></th>\n",
       "      <th>rank</th>\n",
       "      <th>bib</th>\n",
       "      <th>sex</th>\n",
       "      <th>age</th>\n",
       "      <th>time</th>\n",
       "    </tr>\n",
       "  </thead>\n",
       "  <tbody>\n",
       "    <tr>\n",
       "      <th>8995</th>\n",
       "      <td>8996</td>\n",
       "      <td>27126</td>\n",
       "      <td>F</td>\n",
       "      <td>28</td>\n",
       "      <td>02:29:40</td>\n",
       "    </tr>\n",
       "    <tr>\n",
       "      <th>8996</th>\n",
       "      <td>8997</td>\n",
       "      <td>24949</td>\n",
       "      <td>M</td>\n",
       "      <td>25</td>\n",
       "      <td>02:29:40</td>\n",
       "    </tr>\n",
       "    <tr>\n",
       "      <th>8997</th>\n",
       "      <td>8998</td>\n",
       "      <td>27130</td>\n",
       "      <td>F</td>\n",
       "      <td>26</td>\n",
       "      <td>02:29:40</td>\n",
       "    </tr>\n",
       "    <tr>\n",
       "      <th>8998</th>\n",
       "      <td>8999</td>\n",
       "      <td>27628</td>\n",
       "      <td>F</td>\n",
       "      <td>27</td>\n",
       "      <td>02:29:44</td>\n",
       "    </tr>\n",
       "    <tr>\n",
       "      <th>8999</th>\n",
       "      <td>9000</td>\n",
       "      <td>20891</td>\n",
       "      <td>M</td>\n",
       "      <td>51</td>\n",
       "      <td>02:29:46</td>\n",
       "    </tr>\n",
       "  </tbody>\n",
       "</table>\n",
       "</div>"
      ],
      "text/plain": [
       "      rank    bib sex  age      time\n",
       "8995  8996  27126   F   28  02:29:40\n",
       "8996  8997  24949   M   25  02:29:40\n",
       "8997  8998  27130   F   26  02:29:40\n",
       "8998  8999  27628   F   27  02:29:44\n",
       "8999  9000  20891   M   51  02:29:46"
      ]
     },
     "execution_count": 13,
     "metadata": {},
     "output_type": "execute_result"
    }
   ],
   "source": [
    "df.tail()"
   ]
  },
  {
   "cell_type": "code",
   "execution_count": null,
   "id": "affected-guitar",
   "metadata": {},
   "outputs": [],
   "source": [
    "df=pd.read_csv('data/runinlyon.csv')"
   ]
  },
  {
   "cell_type": "code",
   "execution_count": 16,
   "id": "jewish-farming",
   "metadata": {},
   "outputs": [
    {
     "data": {
      "text/plain": [
       "(array([ 655., 1745., 1615., 1555., 1456., 1337.,  484.,  115.,   33.,\n",
       "           5.]),\n",
       " array([17. , 23.2, 29.4, 35.6, 41.8, 48. , 54.2, 60.4, 66.6, 72.8, 79. ]),\n",
       " <BarContainer object of 10 artists>)"
      ]
     },
     "execution_count": 16,
     "metadata": {},
     "output_type": "execute_result"
    },
    {
     "data": {
      "image/png": "[encoded data removed]",
      "text/plain": [
       "<Figure size 432x288 with 1 Axes>"
      ]
     },
     "metadata": {
      "needs_background": "light"
     },
     "output_type": "display_data"
    }
   ],
   "source": [
    "plt.hist(x='age',data=df)"
   ]
  },
  {
   "cell_type": "code",
   "execution_count": 17,
   "id": "virtual-vienna",
   "metadata": {},
   "outputs": [],
   "source": [
    "df['minutes'] = pd.to_timedelta(df['time']).dt.seconds//60"
   ]
  },
  {
   "cell_type": "code",
   "execution_count": 18,
   "id": "initial-administrator",
   "metadata": {},
   "outputs": [
    {
     "data": {
      "text/plain": [
       "(array([  26.,  151.,  455.,  944., 1460., 1792., 1657., 1164.,  817.,\n",
       "         534.]),\n",
       " array([ 68. ,  76.1,  84.2,  92.3, 100.4, 108.5, 116.6, 124.7, 132.8,\n",
       "        140.9, 149. ]),\n",
       " <BarContainer object of 10 artists>)"
      ]
     },
     "execution_count": 18,
     "metadata": {},
     "output_type": "execute_result"
    },
    {
     "data": {
      "image/png": "[encoded data removed]",
      "text/plain": [
       "<Figure size 432x288 with 1 Axes>"
      ]
     },
     "metadata": {
      "needs_background": "light"
     },
     "output_type": "display_data"
    }
   ],
   "source": [
    "plt.hist(df['minutes'])"
   ]
  },
  {
   "cell_type": "code",
   "execution_count": null,
   "id": "private-bundle",
   "metadata": {},
   "outputs": [],
   "source": [
    "df[df['sex']=='F']['minutes'].min()"
   ]
  },
  {
   "cell_type": "code",
   "execution_count": null,
   "id": "solar-referral",
   "metadata": {},
   "outputs": [],
   "source": [
    "df[df['age']>50]['minutes'].min()"
   ]
  },
  {
   "cell_type": "code",
   "execution_count": null,
   "id": "dominican-hardwood",
   "metadata": {},
   "outputs": [],
   "source": [
    "speed = df['minutes']/21.1\n",
    "60/min(speed)"
   ]
  },
  {
   "cell_type": "markdown",
   "id": "explicit-director",
   "metadata": {},
   "source": [
    "# Temperature records"
   ]
  },
  {
   "cell_type": "code",
   "execution_count": 5,
   "id": "social-progress",
   "metadata": {},
   "outputs": [
    {
     "name": "stdout",
     "output_type": "stream",
     "text": [
      "45.769458 4.834862\n",
      "45.759392,4.828980\n"
     ]
    },
    {
     "data": {
      "text/html": [
       "<div>\n",
       "<style scoped>\n",
       "    .dataframe tbody tr th:only-of-type {\n",
       "        vertical-align: middle;\n",
       "    }\n",
       "\n",
       "    .dataframe tbody tr th {\n",
       "        vertical-align: top;\n",
       "    }\n",
       "\n",
       "    .dataframe thead th {\n",
       "        text-align: right;\n",
       "    }\n",
       "</style>\n",
       "<table border=\"1\" class=\"dataframe\">\n",
       "  <thead>\n",
       "    <tr style=\"text-align: right;\">\n",
       "      <th></th>\n",
       "      <th>created</th>\n",
       "      <th>applicable_date</th>\n",
       "      <th>min_temp</th>\n",
       "      <th>max_temp</th>\n",
       "      <th>the_temp</th>\n",
       "    </tr>\n",
       "  </thead>\n",
       "  <tbody>\n",
       "    <tr>\n",
       "      <th>0</th>\n",
       "      <td>2020-09-12T22:35:52.453995Z</td>\n",
       "      <td>2020-09-12</td>\n",
       "      <td>14.270</td>\n",
       "      <td>28.445</td>\n",
       "      <td>27.610</td>\n",
       "    </tr>\n",
       "    <tr>\n",
       "      <th>1</th>\n",
       "      <td>2020-09-12T19:35:52.559657Z</td>\n",
       "      <td>2020-09-12</td>\n",
       "      <td>14.270</td>\n",
       "      <td>29.275</td>\n",
       "      <td>27.500</td>\n",
       "    </tr>\n",
       "    <tr>\n",
       "      <th>2</th>\n",
       "      <td>2020-09-12T16:35:53.406683Z</td>\n",
       "      <td>2020-09-12</td>\n",
       "      <td>14.270</td>\n",
       "      <td>29.350</td>\n",
       "      <td>27.500</td>\n",
       "    </tr>\n",
       "    <tr>\n",
       "      <th>3</th>\n",
       "      <td>2020-09-12T13:35:52.286696Z</td>\n",
       "      <td>2020-09-12</td>\n",
       "      <td>14.225</td>\n",
       "      <td>28.275</td>\n",
       "      <td>27.245</td>\n",
       "    </tr>\n",
       "    <tr>\n",
       "      <th>4</th>\n",
       "      <td>2020-09-12T10:35:55.068333Z</td>\n",
       "      <td>2020-09-12</td>\n",
       "      <td>14.210</td>\n",
       "      <td>27.660</td>\n",
       "      <td>27.260</td>\n",
       "    </tr>\n",
       "  </tbody>\n",
       "</table>\n",
       "</div>"
      ],
      "text/plain": [
       "                       created applicable_date  min_temp  max_temp  the_temp\n",
       "0  2020-09-12T22:35:52.453995Z      2020-09-12    14.270    28.445    27.610\n",
       "1  2020-09-12T19:35:52.559657Z      2020-09-12    14.270    29.275    27.500\n",
       "2  2020-09-12T16:35:53.406683Z      2020-09-12    14.270    29.350    27.500\n",
       "3  2020-09-12T13:35:52.286696Z      2020-09-12    14.225    28.275    27.245\n",
       "4  2020-09-12T10:35:55.068333Z      2020-09-12    14.210    27.660    27.260"
      ]
     },
     "execution_count": 5,
     "metadata": {},
     "output_type": "execute_result"
    }
   ],
   "source": [
    "# Location search\n",
    "\n",
    "adresse = \"20 rue des capucins Lyon\"\n",
    "lat,lon = get_lat_lon(adresse)\n",
    "woeid = get_woeid(lat,lon)\n",
    "\n",
    "temp = get_temperature_one_day(woeid['woeid'],2020,9,12)\n",
    "\n",
    "print(lat,lon)\n",
    "print(woeid['latt_long'])\n",
    "temp.head()"
   ]
  },
  {
   "cell_type": "code",
   "execution_count": 9,
   "id": "threatened-design",
   "metadata": {},
   "outputs": [
    {
     "name": "stdout",
     "output_type": "stream",
     "text": [
      "609125\n"
     ]
    }
   ],
   "source": [
    "print(woeid['woeid'])"
   ]
  },
  {
   "cell_type": "code",
   "execution_count": null,
   "id": "recognized-lounge",
   "metadata": {},
   "outputs": [],
   "source": [
    "temp = get_temperature_many_days(woeid['woeid'],2020,9,1,2020,9,30)"
   ]
  },
  {
   "cell_type": "code",
   "execution_count": null,
   "id": "affected-partner",
   "metadata": {},
   "outputs": [],
   "source": [
    "temp_lyon = temp.resample('2H').mean().dropna()\n",
    "temp_lyon.head()"
   ]
  },
  {
   "cell_type": "markdown",
   "id": "beautiful-veteran",
   "metadata": {},
   "source": [
    "voir\n",
    "https://www.meteo-lyon.net/records/mois/septembre\n"
   ]
  },
  {
   "cell_type": "code",
   "execution_count": null,
   "id": "powerful-enemy",
   "metadata": {},
   "outputs": [],
   "source": [
    "# adresse = \"18 rue ampere 38300 Bourgoin Jallieu\"\n",
    "adresse = \"13 rue saint valentin 29820 Guilers\"\n",
    "lat,lon = get_lat_lon(adresse)\n",
    "woeid = get_woeid(lat,lon)\n",
    "temp = get_temperature_many_days(woeid['woeid'],2020,9,1,2020,9,30)"
   ]
  },
  {
   "cell_type": "code",
   "execution_count": null,
   "id": "prerequisite-graduate",
   "metadata": {},
   "outputs": [],
   "source": [
    "temp_guilers = temp.resample('3H').mean().dropna()"
   ]
  },
  {
   "cell_type": "code",
   "execution_count": null,
   "id": "vocational-agency",
   "metadata": {},
   "outputs": [],
   "source": [
    "fig, ax = plt.subplots(figsize=(16,4))\n",
    "ax.plot(temp_lyon.the_temp,color='grey',label='Lyon')\n",
    "ax.plot(temp_guilers.the_temp,color='b',label='Guilers')\n",
    "ax.legend()"
   ]
  },
  {
   "cell_type": "markdown",
   "id": "digital-sound",
   "metadata": {},
   "source": [
    "## Trace GPX\n",
    "\n",
    "https://www.openrunner.com/"
   ]
  },
  {
   "cell_type": "code",
   "execution_count": 13,
   "id": "inner-married",
   "metadata": {},
   "outputs": [],
   "source": [
    "runinlyon = overlayGPX('../data/vienna_marathon.gpx',14)"
   ]
  },
  {
   "cell_type": "code",
   "execution_count": 14,
   "id": "reverse-mount",
   "metadata": {},
   "outputs": [
    {
     "data": {
      "text/html": [
       "<div style=\"width:100%;\"><div style=\"position:relative;width:100%;height:0;padding-bottom:60%;\"><span style=\"color:#565656\">Make this Notebook Trusted to load map: File -> Trust Notebook</span><iframe src=\"about:blank\" style=\"position:absolute;width:100%;height:100%;left:0;top:0;border:none !important;\" data-html=%3C%21DOCTYPE%20html%3E%0A%3Chead%3E%20%20%20%20%0A%20%20%20%20%3Cmeta%20http-equiv%3D%22content-type%22%20content%3D%22text/html%3B%20charset%3DUTF-8%22%20/%3E%0A%20%20%20%20%0A%20%20%20%20%20%20%20%20%3Cscript%3E%0A%20%20%20%20%20%20%20%20%20%20%20%20L_NO_TOUCH%20%3D%20false%3B%0A%20%20%20%20%20%20%20%20%20%20%20%20L_DISABLE_3D%20%3D%20false%3B%0A%20%20%20%20%20%20%20%20%3C/script%3E%0A%20%20%20%20%0A%20%20%20%20%3Cstyle%3Ehtml%2C%20body%20%7Bwidth%3A%20100%25%3Bheight%3A%20100%25%3Bmargin%3A%200%3Bpadding%3A%200%3B%7D%3C/style%3E%0A%20%20%20%20%3Cstyle%3E%23map%20%7Bposition%3Aabsolute%3Btop%3A0%3Bbottom%3A0%3Bright%3A0%3Bleft%3A0%3B%7D%3C/style%3E%0A%20%20%20%20%3Cscript%20src%3D%22https%3A//cdn.jsdelivr.net/npm/leaflet%401.6.0/dist/leaflet.js%22%3E%3C/script%3E%0A%20%20%20%20%3Cscript%20src%3D%22https%3A//code.jquery.com/jquery-1.12.4.min.js%22%3E%3C/script%3E%0A%20%20%20%20%3Cscript%20src%3D%22https%3A//maxcdn.bootstrapcdn.com/bootstrap/3.2.0/js/bootstrap.min.js%22%3E%3C/script%3E%0A%20%20%20%20%3Cscript%20src%3D%22https%3A//cdnjs.cloudflare.com/ajax/libs/Leaflet.awesome-markers/2.0.2/leaflet.awesome-markers.js%22%3E%3C/script%3E%0A%20%20%20%20%3Clink%20rel%3D%22stylesheet%22%20href%3D%22https%3A//cdn.jsdelivr.net/npm/leaflet%401.6.0/dist/leaflet.css%22/%3E%0A%20%20%20%20%3Clink%20rel%3D%22stylesheet%22%20href%3D%22https%3A//maxcdn.bootstrapcdn.com/bootstrap/3.2.0/css/bootstrap.min.css%22/%3E%0A%20%20%20%20%3Clink%20rel%3D%22stylesheet%22%20href%3D%22https%3A//maxcdn.bootstrapcdn.com/bootstrap/3.2.0/css/bootstrap-theme.min.css%22/%3E%0A%20%20%20%20%3Clink%20rel%3D%22stylesheet%22%20href%3D%22https%3A//maxcdn.bootstrapcdn.com/font-awesome/4.6.3/css/font-awesome.min.css%22/%3E%0A%20%20%20%20%3Clink%20rel%3D%22stylesheet%22%20href%3D%22https%3A//cdnjs.cloudflare.com/ajax/libs/Leaflet.awesome-markers/2.0.2/leaflet.awesome-markers.css%22/%3E%0A%20%20%20%20%3Clink%20rel%3D%22stylesheet%22%20href%3D%22https%3A//cdn.jsdelivr.net/gh/python-visualization/folium/folium/templates/leaflet.awesome.rotate.min.css%22/%3E%0A%20%20%20%20%0A%20%20%20%20%20%20%20%20%20%20%20%20%3Cmeta%20name%3D%22viewport%22%20content%3D%22width%3Ddevice-width%2C%0A%20%20%20%20%20%20%20%20%20%20%20%20%20%20%20%20initial-scale%3D1.0%2C%20maximum-scale%3D1.0%2C%20user-scalable%3Dno%22%20/%3E%0A%20%20%20%20%20%20%20%20%20%20%20%20%3Cstyle%3E%0A%20%20%20%20%20%20%20%20%20%20%20%20%20%20%20%20%23map_f669b43867ef4b5bb291ffd1c34e50ca%20%7B%0A%20%20%20%20%20%20%20%20%20%20%20%20%20%20%20%20%20%20%20%20position%3A%20relative%3B%0A%20%20%20%20%20%20%20%20%20%20%20%20%20%20%20%20%20%20%20%20width%3A%20100.0%25%3B%0A%20%20%20%20%20%20%20%20%20%20%20%20%20%20%20%20%20%20%20%20height%3A%20100.0%25%3B%0A%20%20%20%20%20%20%20%20%20%20%20%20%20%20%20%20%20%20%20%20left%3A%200.0%25%3B%0A%20%20%20%20%20%20%20%20%20%20%20%20%20%20%20%20%20%20%20%20top%3A%200.0%25%3B%0A%20%20%20%20%20%20%20%20%20%20%20%20%20%20%20%20%7D%0A%20%20%20%20%20%20%20%20%20%20%20%20%3C/style%3E%0A%20%20%20%20%20%20%20%20%0A%3C/head%3E%0A%3Cbody%3E%20%20%20%20%0A%20%20%20%20%0A%20%20%20%20%20%20%20%20%20%20%20%20%3Cdiv%20class%3D%22folium-map%22%20id%3D%22map_f669b43867ef4b5bb291ffd1c34e50ca%22%20%3E%3C/div%3E%0A%20%20%20%20%20%20%20%20%0A%3C/body%3E%0A%3Cscript%3E%20%20%20%20%0A%20%20%20%20%0A%20%20%20%20%20%20%20%20%20%20%20%20var%20map_f669b43867ef4b5bb291ffd1c34e50ca%20%3D%20L.map%28%0A%20%20%20%20%20%20%20%20%20%20%20%20%20%20%20%20%22map_f669b43867ef4b5bb291ffd1c34e50ca%22%2C%0A%20%20%20%20%20%20%20%20%20%20%20%20%20%20%20%20%7B%0A%20%20%20%20%20%20%20%20%20%20%20%20%20%20%20%20%20%20%20%20center%3A%20%5B48.201099614457874%2C%2016.370979710843386%5D%2C%0A%20%20%20%20%20%20%20%20%20%20%20%20%20%20%20%20%20%20%20%20crs%3A%20L.CRS.EPSG3857%2C%0A%20%20%20%20%20%20%20%20%20%20%20%20%20%20%20%20%20%20%20%20zoom%3A%2014%2C%0A%20%20%20%20%20%20%20%20%20%20%20%20%20%20%20%20%20%20%20%20zoomControl%3A%20true%2C%0A%20%20%20%20%20%20%20%20%20%20%20%20%20%20%20%20%20%20%20%20preferCanvas%3A%20false%2C%0A%20%20%20%20%20%20%20%20%20%20%20%20%20%20%20%20%7D%0A%20%20%20%20%20%20%20%20%20%20%20%20%29%3B%0A%0A%20%20%20%20%20%20%20%20%20%20%20%20%0A%0A%20%20%20%20%20%20%20%20%0A%20%20%20%20%0A%20%20%20%20%20%20%20%20%20%20%20%20var%20tile_layer_5e2b76183d53436b997bef12086ffd4c%20%3D%20L.tileLayer%28%0A%20%20%20%20%20%20%20%20%20%20%20%20%20%20%20%20%22https%3A//%7Bs%7D.tile.openstreetmap.org/%7Bz%7D/%7Bx%7D/%7By%7D.png%22%2C%0A%20%20%20%20%20%20%20%20%20%20%20%20%20%20%20%20%7B%22attribution%22%3A%20%22Data%20by%20%5Cu0026copy%3B%20%5Cu003ca%20href%3D%5C%22http%3A//openstreetmap.org%5C%22%5Cu003eOpenStreetMap%5Cu003c/a%5Cu003e%2C%20under%20%5Cu003ca%20href%3D%5C%22http%3A//www.openstreetmap.org/copyright%5C%22%5Cu003eODbL%5Cu003c/a%5Cu003e.%22%2C%20%22detectRetina%22%3A%20false%2C%20%22maxNativeZoom%22%3A%2018%2C%20%22maxZoom%22%3A%2018%2C%20%22minZoom%22%3A%200%2C%20%22noWrap%22%3A%20false%2C%20%22opacity%22%3A%201%2C%20%22subdomains%22%3A%20%22abc%22%2C%20%22tms%22%3A%20false%7D%0A%20%20%20%20%20%20%20%20%20%20%20%20%29.addTo%28map_f669b43867ef4b5bb291ffd1c34e50ca%29%3B%0A%20%20%20%20%20%20%20%20%0A%20%20%20%20%0A%20%20%20%20%20%20%20%20%20%20%20%20var%20poly_line_bbf3523fcb834aef843aa9537ee5ac7a%20%3D%20L.polyline%28%0A%20%20%20%20%20%20%20%20%20%20%20%20%20%20%20%20%5B%5B48.23196%2C%2016.41651%5D%2C%20%5B48.23023%2C%2016.41345%5D%2C%20%5B48.2295%2C%2016.41207%5D%2C%20%5B48.22725%2C%2016.40793%5D%2C%20%5B48.22553%2C%2016.40472%5D%2C%20%5B48.22519%2C%2016.40414%5D%2C%20%5B48.22216%2C%2016.39838%5D%2C%20%5B48.22041%2C%2016.39525%5D%2C%20%5B48.21954%2C%2016.39364%5D%2C%20%5B48.21938%2C%2016.39345%5D%2C%20%5B48.21927%2C%2016.39345%5D%2C%20%5B48.2191%2C%2016.39345%5D%2C%20%5B48.21863%2C%2016.39346%5D%2C%20%5B48.21825%2C%2016.39351%5D%2C%20%5B48.21775%2C%2016.39347%5D%2C%20%5B48.21747%2C%2016.39332%5D%2C%20%5B48.21714%2C%2016.393%5D%2C%20%5B48.21671%2C%2016.39304%5D%2C%20%5B48.21609%2C%2016.39413%5D%2C%20%5B48.21491%2C%2016.39652%5D%2C%20%5B48.21281%2C%2016.40044%5D%2C%20%5B48.21178%2C%2016.40242%5D%2C%20%5B48.20946%2C%2016.40682%5D%2C%20%5B48.20807%2C%2016.40941%5D%2C%20%5B48.20446%2C%2016.4163%5D%2C%20%5B48.20438%2C%2016.41647%5D%2C%20%5B48.20401%2C%2016.41608%5D%2C%20%5B48.20386%2C%2016.41596%5D%2C%20%5B48.20364%2C%2016.4159%5D%2C%20%5B48.20347%2C%2016.41583%5D%2C%20%5B48.20328%2C%2016.41578%5D%2C%20%5B48.20313%2C%2016.41575%5D%2C%20%5B48.20278%2C%2016.41576%5D%2C%20%5B48.20249%2C%2016.41573%5D%2C%20%5B48.20226%2C%2016.41572%5D%2C%20%5B48.20193%2C%2016.41564%5D%2C%20%5B48.20169%2C%2016.41559%5D%2C%20%5B48.20124%2C%2016.41547%5D%2C%20%5B48.20095%2C%2016.41537%5D%2C%20%5B48.20062%2C%2016.41519%5D%2C%20%5B48.20036%2C%2016.41503%5D%2C%20%5B48.20009%2C%2016.41487%5D%2C%20%5B48.19949%2C%2016.41441%5D%2C%20%5B48.19925%2C%2016.41423%5D%2C%20%5B48.19885%2C%2016.41386%5D%2C%20%5B48.19829%2C%2016.41325%5D%2C%20%5B48.19793%2C%2016.41279%5D%2C%20%5B48.19762%2C%2016.41234%5D%2C%20%5B48.19752%2C%2016.4122%5D%2C%20%5B48.19731%2C%2016.41188%5D%2C%20%5B48.19725%2C%2016.41169%5D%2C%20%5B48.19714%2C%2016.4115%5D%2C%20%5B48.19708%2C%2016.41135%5D%2C%20%5B48.19707%2C%2016.41131%5D%2C%20%5B48.19766%2C%2016.41084%5D%2C%20%5B48.19804%2C%2016.41052%5D%2C%20%5B48.19822%2C%2016.41031%5D%2C%20%5B48.1988%2C%2016.40996%5D%2C%20%5B48.19952%2C%2016.40943%5D%2C%20%5B48.20011%2C%2016.40905%5D%2C%20%5B48.2005%2C%2016.40875%5D%2C%20%5B48.20097%2C%2016.40821%5D%2C%20%5B48.20134%2C%2016.40768%5D%2C%20%5B48.20152%2C%2016.40739%5D%2C%20%5B48.20179%2C%2016.40691%5D%2C%20%5B48.20194%2C%2016.40653%5D%2C%20%5B48.20222%2C%2016.40576%5D%2C%20%5B48.20234%2C%2016.40538%5D%2C%20%5B48.20252%2C%2016.40456%5D%2C%20%5B48.2026%2C%2016.40409%5D%2C%20%5B48.20277%2C%2016.40317%5D%2C%20%5B48.20288%2C%2016.40262%5D%2C%20%5B48.20327%2C%2016.40054%5D%2C%20%5B48.2034%2C%2016.40015%5D%2C%20%5B48.20364%2C%2016.39971%5D%2C%20%5B48.204%2C%2016.39918%5D%2C%20%5B48.20438%2C%2016.39882%5D%2C%20%5B48.20474%2C%2016.39847%5D%2C%20%5B48.20507%2C%2016.39827%5D%2C%20%5B48.20551%2C%2016.39809%5D%2C%20%5B48.20585%2C%2016.39804%5D%2C%20%5B48.20634%2C%2016.39799%5D%2C%20%5B48.20684%2C%2016.39794%5D%2C%20%5B48.20731%2C%2016.39785%5D%2C%20%5B48.20778%2C%2016.39773%5D%2C%20%5B48.20813%2C%2016.39761%5D%2C%20%5B48.20892%2C%2016.39729%5D%2C%20%5B48.20974%2C%2016.39681%5D%2C%20%5B48.20974%2C%2016.39681%5D%2C%20%5B48.21038%2C%2016.39638%5D%2C%20%5B48.21038%2C%2016.39638%5D%2C%20%5B48.21163%2C%2016.39546%5D%2C%20%5B48.21242%2C%2016.39467%5D%2C%20%5B48.2129%2C%2016.39386%5D%2C%20%5B48.2129%2C%2016.39386%5D%2C%20%5B48.21337%2C%2016.3926%5D%2C%20%5B48.21385%2C%2016.39034%5D%2C%20%5B48.21385%2C%2016.39034%5D%2C%20%5B48.21396%2C%2016.38955%5D%2C%20%5B48.21398%2C%2016.38913%5D%2C%20%5B48.21396%2C%2016.38871%5D%2C%20%5B48.21386%2C%2016.38799%5D%2C%20%5B48.21379%2C%2016.38769%5D%2C%20%5B48.2135%2C%2016.38707%5D%2C%20%5B48.21306%2C%2016.38589%5D%2C%20%5B48.21277%2C%2016.38494%5D%2C%20%5B48.21266%2C%2016.38445%5D%2C%20%5B48.21244%2C%2016.38321%5D%2C%20%5B48.21235%2C%2016.38227%5D%2C%20%5B48.21235%2C%2016.38227%5D%2C%20%5B48.21234%2C%2016.38096%5D%2C%20%5B48.21234%2C%2016.38096%5D%2C%20%5B48.21241%2C%2016.37999%5D%2C%20%5B48.21258%2C%2016.37918%5D%2C%20%5B48.21163%2C%2016.37878%5D%2C%20%5B48.21147%2C%2016.38%5D%2C%20%5B48.21137%2C%2016.38248%5D%2C%20%5B48.21137%2C%2016.38248%5D%2C%20%5B48.21136%2C%2016.38286%5D%2C%20%5B48.20895%2C%2016.38223%5D%2C%20%5B48.20877%2C%2016.3821%5D%2C%20%5B48.20751%2C%2016.38081%5D%2C%20%5B48.20751%2C%2016.38081%5D%2C%20%5B48.20342%2C%2016.37665%5D%2C%20%5B48.20342%2C%2016.37665%5D%2C%20%5B48.20242%2C%2016.37562%5D%2C%20%5B48.20242%2C%2016.37562%5D%2C%20%5B48.20184%2C%2016.37505%5D%2C%20%5B48.20172%2C%2016.37461%5D%2C%20%5B48.20172%2C%2016.37461%5D%2C%20%5B48.20148%2C%2016.37368%5D%2C%20%5B48.20149%2C%2016.37342%5D%2C%20%5B48.20149%2C%2016.37342%5D%2C%20%5B48.20173%2C%2016.37239%5D%2C%20%5B48.20173%2C%2016.37239%5D%2C%20%5B48.20271%2C%2016.36799%5D%2C%20%5B48.20271%2C%2016.36799%5D%2C%20%5B48.20231%2C%2016.36783%5D%2C%20%5B48.20218%2C%2016.36771%5D%2C%20%5B48.20196%2C%2016.3676%5D%2C%20%5B48.20192%2C%2016.36762%5D%2C%20%5B48.20137%2C%2016.36732%5D%2C%20%5B48.20076%2C%2016.36674%5D%2C%20%5B48.20009%2C%2016.36569%5D%2C%20%5B48.20009%2C%2016.36569%5D%2C%20%5B48.19903%2C%2016.3638%5D%2C%20%5B48.19903%2C%2016.3638%5D%2C%20%5B48.19774%2C%2016.36119%5D%2C%20%5B48.19764%2C%2016.36084%5D%2C%20%5B48.19687%2C%2016.35709%5D%2C%20%5B48.19675%2C%2016.35661%5D%2C%20%5B48.19654%2C%2016.356%5D%2C%20%5B48.19618%2C%2016.35526%5D%2C%20%5B48.19581%2C%2016.3547%5D%2C%20%5B48.19543%2C%2016.35431%5D%2C%20%5B48.19512%2C%2016.35411%5D%2C%20%5B48.19512%2C%2016.35411%5D%2C%20%5B48.1948%2C%2016.354%5D%2C%20%5B48.19452%2C%2016.35397%5D%2C%20%5B48.19307%2C%2016.35407%5D%2C%20%5B48.1925%2C%2016.35393%5D%2C%20%5B48.19195%2C%2016.35366%5D%2C%20%5B48.19161%2C%2016.35342%5D%2C%20%5B48.1911%2C%2016.35298%5D%2C%20%5B48.19071%2C%2016.35255%5D%2C%20%5B48.19071%2C%2016.35255%5D%2C%20%5B48.19045%2C%2016.35222%5D%2C%20%5B48.19021%2C%2016.3518%5D%2C%20%5B48.18997%2C%2016.35114%5D%2C%20%5B48.18989%2C%2016.35082%5D%2C%20%5B48.18897%2C%2016.34538%5D%2C%20%5B48.18872%2C%2016.3415%5D%2C%20%5B48.18851%2C%2016.33883%5D%2C%20%5B48.18831%2C%2016.33826%5D%2C%20%5B48.18831%2C%2016.33826%5D%2C%20%5B48.18797%2C%2016.33762%5D%2C%20%5B48.18744%2C%2016.33692%5D%2C%20%5B48.18592%2C%2016.33562%5D%2C%20%5B48.18509%2C%2016.33451%5D%2C%20%5B48.18459%2C%2016.33361%5D%2C%20%5B48.1842%2C%2016.3324%5D%2C%20%5B48.1841%2C%2016.33183%5D%2C%20%5B48.18402%2C%2016.33081%5D%2C%20%5B48.18399%2C%2016.32784%5D%2C%20%5B48.18408%2C%2016.32711%5D%2C%20%5B48.18427%2C%2016.32624%5D%2C%20%5B48.1849%2C%2016.32422%5D%2C%20%5B48.1849%2C%2016.32422%5D%2C%20%5B48.18606%2C%2016.32035%5D%2C%20%5B48.18606%2C%2016.32035%5D%2C%20%5B48.18675%2C%2016.32077%5D%2C%20%5B48.18675%2C%2016.32077%5D%2C%20%5B48.18705%2C%2016.32087%5D%2C%20%5B48.18726%2C%2016.32087%5D%2C%20%5B48.19014%2C%2016.32044%5D%2C%20%5B48.1903%2C%2016.32239%5D%2C%20%5B48.19028%2C%2016.32245%5D%2C%20%5B48.19035%2C%2016.32305%5D%2C%20%5B48.19053%2C%2016.32391%5D%2C%20%5B48.19053%2C%2016.32391%5D%2C%20%5B48.19129%2C%2016.32705%5D%2C%20%5B48.19137%2C%2016.32852%5D%2C%20%5B48.19137%2C%2016.32852%5D%2C%20%5B48.19155%2C%2016.33104%5D%2C%20%5B48.19161%2C%2016.33146%5D%2C%20%5B48.19161%2C%2016.33146%5D%2C%20%5B48.19178%2C%2016.33223%5D%2C%20%5B48.19197%2C%2016.33267%5D%2C%20%5B48.19324%2C%2016.33399%5D%2C%20%5B48.19368%2C%2016.33457%5D%2C%20%5B48.19415%2C%2016.33528%5D%2C%20%5B48.19471%2C%2016.3364%5D%2C%20%5B48.19471%2C%2016.3364%5D%2C%20%5B48.19498%2C%2016.33723%5D%2C%20%5B48.19507%2C%2016.3373%5D%2C%20%5B48.19511%2C%2016.33741%5D%2C%20%5B48.19551%2C%2016.33861%5D%2C%20%5B48.19582%2C%2016.33922%5D%2C%20%5B48.19589%2C%2016.34002%5D%2C%20%5B48.19601%2C%2016.34092%5D%2C%20%5B48.19639%2C%2016.34231%5D%2C%20%5B48.19659%2C%2016.34347%5D%2C%20%5B48.19659%2C%2016.34347%5D%2C%20%5B48.19674%2C%2016.34434%5D%2C%20%5B48.19737%2C%2016.34722%5D%2C%20%5B48.19782%2C%2016.34873%5D%2C%20%5B48.19782%2C%2016.34873%5D%2C%20%5B48.19828%2C%2016.35003%5D%2C%20%5B48.19903%2C%2016.35194%5D%2C%20%5B48.19903%2C%2016.35194%5D%2C%20%5B48.1995%2C%2016.35322%5D%2C%20%5B48.20001%2C%2016.35489%5D%2C%20%5B48.20001%2C%2016.35489%5D%2C%20%5B48.2005%2C%2016.35664%5D%2C%20%5B48.20111%2C%2016.35924%5D%2C%20%5B48.20111%2C%2016.35924%5D%2C%20%5B48.20124%2C%2016.35966%5D%2C%20%5B48.20144%2C%2016.36009%5D%2C%20%5B48.20211%2C%2016.36095%5D%2C%20%5B48.20259%2C%2016.36148%5D%2C%20%5B48.20515%2C%2016.35811%5D%2C%20%5B48.20632%2C%2016.36008%5D%2C%20%5B48.20627%2C%2016.36025%5D%2C%20%5B48.20381%2C%2016.36352%5D%2C%20%5B48.20265%2C%2016.36157%5D%2C%20%5B48.20265%2C%2016.36157%5D%2C%20%5B48.20259%2C%2016.36148%5D%2C%20%5B48.2033%2C%2016.36053%5D%2C%20%5B48.2033%2C%2016.36053%5D%2C%20%5B48.20331%2C%2016.36052%5D%2C%20%5B48.20331%2C%2016.36052%5D%2C%20%5B48.20515%2C%2016.35811%5D%2C%20%5B48.20632%2C%2016.36008%5D%2C%20%5B48.20627%2C%2016.36025%5D%2C%20%5B48.20381%2C%2016.36352%5D%2C%20%5B48.20262%2C%2016.36152%5D%2C%20%5B48.20262%2C%2016.36152%5D%2C%20%5B48.20259%2C%2016.36148%5D%2C%20%5B48.20515%2C%2016.35811%5D%2C%20%5B48.20522%2C%2016.35822%5D%2C%20%5B48.20632%2C%2016.36008%5D%2C%20%5B48.2063%2C%2016.36017%5D%2C%20%5B48.20385%2C%2016.36347%5D%2C%20%5B48.20636%2C%2016.36012%5D%2C%20%5B48.20514%2C%2016.35815%5D%2C%20%5B48.20257%2C%2016.36146%5D%2C%20%5B48.20193%2C%2016.36076%5D%2C%20%5B48.20162%2C%2016.36035%5D%2C%20%5B48.20144%2C%2016.36009%5D%2C%20%5B48.20124%2C%2016.35966%5D%2C%20%5B48.20115%2C%2016.35941%5D%2C%20%5B48.20032%2C%2016.35594%5D%2C%20%5B48.19977%2C%2016.35413%5D%2C%20%5B48.19977%2C%2016.35413%5D%2C%20%5B48.1994%2C%2016.35293%5D%2C%20%5B48.19828%2C%2016.35003%5D%2C%20%5B48.19777%2C%2016.3486%5D%2C%20%5B48.19742%2C%2016.34741%5D%2C%20%5B48.19674%2C%2016.34434%5D%2C%20%5B48.19632%2C%2016.34188%5D%2C%20%5B48.19621%2C%2016.34155%5D%2C%20%5B48.19621%2C%2016.34155%5D%2C%20%5B48.19602%2C%2016.34065%5D%2C%20%5B48.19605%2C%2016.34052%5D%2C%20%5B48.19593%2C%2016.34006%5D%2C%20%5B48.19591%2C%2016.33967%5D%2C%20%5B48.19584%2C%2016.33927%5D%2C%20%5B48.19574%2C%2016.33903%5D%2C%20%5B48.19559%2C%2016.33884%5D%2C%20%5B48.19507%2C%2016.3373%5D%2C%20%5B48.19505%2C%2016.33711%5D%2C%20%5B48.1946%2C%2016.33588%5D%2C%20%5B48.19421%2C%2016.33518%5D%2C%20%5B48.19362%2C%2016.33428%5D%2C%20%5B48.19212%2C%2016.33267%5D%2C%20%5B48.19196%2C%2016.33245%5D%2C%20%5B48.19183%2C%2016.33209%5D%2C%20%5B48.19169%2C%2016.33146%5D%2C%20%5B48.19161%2C%2016.33082%5D%2C%20%5B48.19137%2C%2016.32702%5D%2C%20%5B48.19047%2C%2016.32334%5D%2C%20%5B48.19034%2C%2016.32245%5D%2C%20%5B48.1903%2C%2016.32239%5D%2C%20%5B48.19015%2C%2016.32054%5D%2C%20%5B48.19015%2C%2016.32054%5D%2C%20%5B48.18861%2C%2016.32075%5D%2C%20%5B48.18861%2C%2016.32075%5D%2C%20%5B48.1886%2C%2016.32055%5D%2C%20%5B48.18705%2C%2016.32075%5D%2C%20%5B48.18685%2C%2016.32069%5D%2C%20%5B48.1864%2C%2016.32041%5D%2C%20%5B48.18603%2C%2016.32028%5D%2C%20%5B48.18561%2C%2016.32189%5D%2C%20%5B48.18561%2C%2016.32189%5D%2C%20%5B48.18541%2C%2016.32255%5D%2C%20%5B48.18494%2C%2016.32414%5D%2C%20%5B48.18434%2C%2016.32568%5D%2C%20%5B48.18417%2C%2016.32667%5D%2C%20%5B48.18403%2C%2016.328%5D%2C%20%5B48.18403%2C%2016.33139%5D%2C%20%5B48.18466%2C%2016.33375%5D%2C%20%5B48.1857%2C%2016.33536%5D%2C%20%5B48.18663%2C%2016.33618%5D%2C%20%5B48.18773%2C%2016.33727%5D%2C%20%5B48.18834%2C%2016.33817%5D%2C%20%5B48.18851%2C%2016.33879%5D%2C%20%5B48.18872%2C%2016.34148%5D%2C%20%5B48.18899%2C%2016.3456%5D%2C%20%5B48.18969%2C%2016.34963%5D%2C%20%5B48.19001%2C%2016.3513%5D%2C%20%5B48.19068%2C%2016.35252%5D%2C%20%5B48.19158%2C%2016.35336%5D%2C%20%5B48.19293%2C%2016.35399%5D%2C%20%5B48.19421%2C%2016.35394%5D%2C%20%5B48.19519%2C%2016.35412%5D%2C%20%5B48.1959%2C%2016.35478%5D%2C%20%5B48.19646%2C%2016.35587%5D%2C%20%5B48.1969%2C%2016.35729%5D%2C%20%5B48.1972%2C%2016.35868%5D%2C%20%5B48.19768%2C%2016.36115%5D%2C%20%5B48.19905%2C%2016.36379%5D%2C%20%5B48.20011%2C%2016.36566%5D%2C%20%5B48.20074%2C%2016.36673%5D%2C%20%5B48.20138%2C%2016.36735%5D%2C%20%5B48.2027%2C%2016.36798%5D%2C%20%5B48.20227%2C%2016.36984%5D%2C%20%5B48.20174%2C%2016.3724%5D%2C%20%5B48.20148%2C%2016.37338%5D%2C%20%5B48.20172%2C%2016.37461%5D%2C%20%5B48.20187%2C%2016.37506%5D%2C%20%5B48.20245%2C%2016.37557%5D%2C%20%5B48.20344%2C%2016.37667%5D%2C%20%5B48.20752%2C%2016.38083%5D%2C%20%5B48.20887%2C%2016.38222%5D%2C%20%5B48.21135%2C%2016.38287%5D%2C%20%5B48.21135%2C%2016.38287%5D%2C%20%5B48.21163%2C%2016.37878%5D%2C%20%5B48.21163%2C%2016.37878%5D%2C%20%5B48.21255%2C%2016.37923%5D%2C%20%5B48.21243%2C%2016.38006%5D%2C%20%5B48.21235%2C%2016.38092%5D%2C%20%5B48.21235%2C%2016.38229%5D%2C%20%5B48.21262%2C%2016.38418%5D%2C%20%5B48.21302%2C%2016.38587%5D%2C%20%5B48.21369%2C%2016.3875%5D%2C%20%5B48.21405%2C%2016.38883%5D%2C%20%5B48.21386%2C%2016.39034%5D%2C%20%5B48.21348%2C%2016.39201%5D%2C%20%5B48.21298%2C%2016.39381%5D%2C%20%5B48.21242%2C%2016.39465%5D%2C%20%5B48.21153%2C%2016.39549%5D%2C%20%5B48.21043%2C%2016.39637%5D%2C%20%5B48.20983%2C%2016.39679%5D%2C%20%5B48.20892%2C%2016.39729%5D%2C%20%5B48.20822%2C%2016.39759%5D%2C%20%5B48.20759%2C%2016.39778%5D%2C%20%5B48.20667%2C%2016.39797%5D%2C%20%5B48.2058%2C%2016.39806%5D%2C%20%5B48.20501%2C%2016.39827%5D%2C%20%5B48.20477%2C%2016.39847%5D%2C%20%5B48.20435%2C%2016.39879%5D%2C%20%5B48.20403%2C%2016.39915%5D%2C%20%5B48.20364%2C%2016.39969%5D%2C%20%5B48.2034%2C%2016.40008%5D%2C%20%5B48.20323%2C%2016.40059%5D%2C%20%5B48.20288%2C%2016.40254%5D%2C%20%5B48.20275%2C%2016.40315%5D%2C%20%5B48.20261%2C%2016.40405%5D%2C%20%5B48.20254%2C%2016.40457%5D%2C%20%5B48.2021%2C%2016.40613%5D%2C%20%5B48.20153%2C%2016.40741%5D%2C%20%5B48.20096%2C%2016.4082%5D%2C%20%5B48.20051%2C%2016.40874%5D%2C%20%5B48.19882%2C%2016.40998%5D%2C%20%5B48.19823%2C%2016.41031%5D%2C%20%5B48.19709%2C%2016.41132%5D%2C%20%5B48.19731%2C%2016.41189%5D%2C%20%5B48.19794%2C%2016.4128%5D%2C%20%5B48.19886%2C%2016.41387%5D%2C%20%5B48.20008%2C%2016.41488%5D%2C%20%5B48.20095%2C%2016.41538%5D%2C%20%5B48.20195%2C%2016.41564%5D%2C%20%5B48.2025%2C%2016.41573%5D%2C%20%5B48.20315%2C%2016.41574%5D%2C%20%5B48.20367%2C%2016.41591%5D%2C%20%5B48.20388%2C%2016.41598%5D%2C%20%5B48.20438%2C%2016.41647%5D%2C%20%5B48.21282%2C%2016.40049%5D%2C%20%5B48.21674%2C%2016.39293%5D%2C%20%5B48.21714%2C%2016.39313%5D%2C%20%5B48.21752%2C%2016.39334%5D%2C%20%5B48.21798%2C%2016.39351%5D%2C%20%5B48.2194%2C%2016.39347%5D%2C%20%5B48.22217%2C%2016.39847%5D%2C%20%5B48.23201%2C%2016.41651%5D%5D%2C%0A%20%20%20%20%20%20%20%20%20%20%20%20%20%20%20%20%7B%22bubblingMouseEvents%22%3A%20true%2C%20%22color%22%3A%20%22red%22%2C%20%22dashArray%22%3A%20null%2C%20%22dashOffset%22%3A%20null%2C%20%22fill%22%3A%20false%2C%20%22fillColor%22%3A%20%22red%22%2C%20%22fillOpacity%22%3A%200.2%2C%20%22fillRule%22%3A%20%22evenodd%22%2C%20%22lineCap%22%3A%20%22round%22%2C%20%22lineJoin%22%3A%20%22round%22%2C%20%22noClip%22%3A%20false%2C%20%22opacity%22%3A%201%2C%20%22smoothFactor%22%3A%201.0%2C%20%22stroke%22%3A%20true%2C%20%22weight%22%3A%202.5%7D%0A%20%20%20%20%20%20%20%20%20%20%20%20%29.addTo%28map_f669b43867ef4b5bb291ffd1c34e50ca%29%3B%0A%20%20%20%20%20%20%20%20%0A%3C/script%3E onload=\"this.contentDocument.open();this.contentDocument.write(    decodeURIComponent(this.getAttribute('data-html')));this.contentDocument.close();\" allowfullscreen webkitallowfullscreen mozallowfullscreen></iframe></div></div>"
      ],
      "text/plain": [
       "<folium.folium.Map at 0x7f32946f52e0>"
      ]
     },
     "execution_count": 14,
     "metadata": {},
     "output_type": "execute_result"
    }
   ],
   "source": [
    "runinlyon"
   ]
  },
  {
   "cell_type": "code",
   "execution_count": null,
   "id": "roman-paste",
   "metadata": {},
   "outputs": [],
   "source": []
  },
  {
   "cell_type": "markdown",
   "id": "cutting-mongolia",
   "metadata": {},
   "source": [
    "# Influence de l'environnement urbain"
   ]
  },
  {
   "cell_type": "code",
   "execution_count": null,
   "id": "preliminary-blind",
   "metadata": {},
   "outputs": [],
   "source": [
    "!pwd"
   ]
  },
  {
   "cell_type": "code",
   "execution_count": 2,
   "id": "prepared-rouge",
   "metadata": {},
   "outputs": [],
   "source": [
    "base_path = \"data\"\n",
    "item = \"BATIMENT\"\n",
    "full_path_dbf = f\"{base_path}/{item}.dbf\"\n",
    "full_path_shp = f\"{base_path}/{item}.shp\"\n",
    "full_path_prj = f\"{base_path}/{item}.prj\""
   ]
  },
  {
   "cell_type": "code",
   "execution_count": 3,
   "id": "concrete-century",
   "metadata": {},
   "outputs": [],
   "source": [
    "crs_to = pyproj.CRS.from_epsg(2154)\n",
    "crs_from = pyproj.CRS.from_epsg(4326)\n",
    "transform = pyproj.Transformer.from_crs(crs_from,crs_to)"
   ]
  },
  {
   "cell_type": "markdown",
   "id": "legitimate-neutral",
   "metadata": {},
   "source": [
    "---------------------\n",
    "\n",
    "# usefull readings\n",
    "\n",
    "## Examples of data science with running data\n",
    "\n",
    "[2019 Boston Marathon Analysis](https://towardsdatascience.com/running-with-data-ed78d8853ee)\n",
    "\n",
    "\n",
    "## data types for geoData and dedicaded Python modules \n",
    "\n",
    "[reading shapefile with python](https://pypi.org/project/pyshp/)\n",
    "\n",
    "[shapefile to DataFrame](https://stackoverflow.com/questions/55112771/read-shapefiles-into-dataframe)\n",
    "\n",
    "PyCRS is a pure Python GIS package for reading, writing, and converting between various common coordinate reference system (CRS) string and data source formats. [PyCRS](https://pypi.org/project/PyCRS/)\n",
    "\n",
    "[wiki shapefile](https://fr.wikipedia.org/wiki/Shapefile)\n",
    "\n",
    "\n",
    "Notions de base du système de coordonnées d'un fichier de formes : [ArcGis](https://desktop.arcgis.com/fr/arcmap/10.3/manage-data/shapefiles/fundamentals-of-a-shapefiles-coordinate-system.htm)\n",
    "\n",
    "Peut être **GeoPandas** simplifira-t-il tout ce travail ?... voir [GeoPandas](https://geopandas.org/index.html)\n",
    "\n",
    "\n",
    "Créer  un nouveau repo GitHub : [c'est ici](https://kbroman.org/github_tutorial/pages/init.html)\n",
    "\n",
    "\n",
    "### Selenium\n",
    "\n",
    "https://selenium-python.readthedocs.io/index.html\n",
    "\n",
    "https://www.selenium.dev/selenium/docs/api/py/index.html\n",
    "\n",
    "\n",
    "\n",
    "## Heat island effect \n",
    "\n",
    "Research work from Mme Julita Diallo Dudek : [L'Ilot de chaleur urbain : que sait-on de lui ? Comment le mesurer ?](https://www.urbalyon.org/fr/lilot-de-chaleur-urbain-que-sait-de-lui-comment-le-mesurer?#)\n",
    "\n",
    "\n",
    "## Buildings and cities databases\n",
    "\n",
    "[IGN](https://geoservices.ign.fr/)\n",
    "[World Urban Database](http://www.wudapt.org/)\n",
    "\n",
    "\n",
    "## temperature observation\n",
    "\n",
    "Voir [Plan climat](https://blogs.grandlyon.com/plan-climat/2015/12/22/les-cartes-de-temperature-du-grand-lyon-en-open-data/) et [Data Grand Lyon](https://data.grandlyon.com/en/accueil)\n",
    "\n",
    "\n",
    "\n",
    "[Montpellier](http://data.montpellier3m.fr/dataset/thermographie-satellitaire-de-montpellier-mediterranee-metropole)\n"
   ]
  },
  {
   "cell_type": "code",
   "execution_count": 4,
   "id": "public-child",
   "metadata": {},
   "outputs": [],
   "source": [
    "bati = gpd.GeoDataFrame.from_file(full_path_dbf)"
   ]
  },
  {
   "cell_type": "code",
   "execution_count": 5,
   "id": "changing-burton",
   "metadata": {},
   "outputs": [
    {
     "name": "stdout",
     "output_type": "stream",
     "text": [
      "<class 'geopandas.geodataframe.GeoDataFrame'>\n",
      "RangeIndex: 890051 entries, 0 to 890050\n",
      "Data columns (total 26 columns):\n",
      " #   Column      Non-Null Count   Dtype   \n",
      "---  ------      --------------   -----   \n",
      " 0   ID          890051 non-null  object  \n",
      " 1   NATURE      890051 non-null  object  \n",
      " 2   USAGE1      890051 non-null  object  \n",
      " 3   USAGE2      96587 non-null   object  \n",
      " 4   LEGER       890051 non-null  object  \n",
      " 5   ETAT        890051 non-null  object  \n",
      " 6   DATE_CREAT  890051 non-null  object  \n",
      " 7   DATE_MAJ    779661 non-null  object  \n",
      " 8   DATE_APP    422052 non-null  object  \n",
      " 9   DATE_CONF   56153 non-null   object  \n",
      " 10  SOURCE      13510 non-null   object  \n",
      " 11  ID_SOURCE   531 non-null     object  \n",
      " 12  PREC_PLANI  890051 non-null  float64 \n",
      " 13  PREC_ALTI   890051 non-null  float64 \n",
      " 14  NB_LOGTS    467823 non-null  float64 \n",
      " 15  NB_ETAGES   467823 non-null  float64 \n",
      " 16  MAT_MURS    417473 non-null  object  \n",
      " 17  MAT_TOITS   417485 non-null  object  \n",
      " 18  HAUTEUR     878564 non-null  float64 \n",
      " 19  Z_MIN_SOL   872446 non-null  float64 \n",
      " 20  Z_MIN_TOIT  754735 non-null  float64 \n",
      " 21  Z_MAX_TOIT  556838 non-null  float64 \n",
      " 22  Z_MAX_SOL   550257 non-null  float64 \n",
      " 23  ORIGIN_BAT  890048 non-null  object  \n",
      " 24  APP_FF      467090 non-null  object  \n",
      " 25  geometry    890051 non-null  geometry\n",
      "dtypes: float64(9), geometry(1), object(16)\n",
      "memory usage: 176.6+ MB\n"
     ]
    }
   ],
   "source": [
    "bati.info()"
   ]
  },
  {
   "cell_type": "code",
   "execution_count": 6,
   "id": "composed-sustainability",
   "metadata": {},
   "outputs": [
    {
     "data": {
      "text/plain": [
       "<Projected CRS: EPSG:2154>\n",
       "Name: RGF93 / Lambert-93\n",
       "Axis Info [cartesian]:\n",
       "- X[east]: Easting (metre)\n",
       "- Y[north]: Northing (metre)\n",
       "Area of Use:\n",
       "- name: France - onshore and offshore, mainland and Corsica.\n",
       "- bounds: (-9.86, 41.15, 10.38, 51.56)\n",
       "Coordinate Operation:\n",
       "- name: Lambert-93\n",
       "- method: Lambert Conic Conformal (2SP)\n",
       "Datum: Reseau Geodesique Francais 1993\n",
       "- Ellipsoid: GRS 1980\n",
       "- Prime Meridian: Greenwich"
      ]
     },
     "execution_count": 6,
     "metadata": {},
     "output_type": "execute_result"
    }
   ],
   "source": [
    "bati.crs"
   ]
  },
  {
   "cell_type": "code",
   "execution_count": null,
   "id": "separated-palestinian",
   "metadata": {},
   "outputs": [],
   "source": [
    "bati.head()"
   ]
  },
  {
   "cell_type": "code",
   "execution_count": null,
   "id": "south-fitting",
   "metadata": {},
   "outputs": [],
   "source": [
    "bati['ORIGIN_BAT'].unique()"
   ]
  },
  {
   "cell_type": "code",
   "execution_count": null,
   "id": "proprietary-carter",
   "metadata": {},
   "outputs": [],
   "source": [
    "bati['USAGE1'].unique()"
   ]
  },
  {
   "cell_type": "markdown",
   "id": "characteristic-compromise",
   "metadata": {},
   "source": [
    "## Adding building layer to folium map"
   ]
  },
  {
   "cell_type": "code",
   "execution_count": 7,
   "id": "floating-chart",
   "metadata": {},
   "outputs": [],
   "source": [
    "adresse = \"20 rue des capucins Lyon\""
   ]
  },
  {
   "cell_type": "code",
   "execution_count": 10,
   "id": "southwest-professor",
   "metadata": {},
   "outputs": [
    {
     "name": "stdout",
     "output_type": "stream",
     "text": [
      "lat = 45.769458\n",
      "lon = 4.834862\n",
      "x = 842587.460235558\n",
      "y = 6520528.8046810785\n",
      "x_min =    842 537\n",
      "x_max =    842 638\n",
      "y_min =  6 520 478\n",
      "y_max =  6 520 579\n"
     ]
    }
   ],
   "source": [
    "lat,lon = get_lat_lon(adresse)\n",
    "print(f'lat = {lat}')\n",
    "print(f'lon = {lon}')\n",
    "\n",
    "x, y = transform.transform(lat,lon)\n",
    "print(f'x = {x}')\n",
    "print(f'y = {y}')\n",
    "dx = 100\n",
    "dy = 100\n",
    "x_min = math.floor(x)-dx/2\n",
    "x_max = math.ceil(x)+dx/2\n",
    "print('x_min = {:10,.0f}'.format(x_min).replace(',', ' '))\n",
    "print('x_max = {:10,.0f}'.format(x_max).replace(',', ' '))\n",
    "y_min = math.floor(y)-dx/2\n",
    "y_max = math.ceil(y)+dx/2\n",
    "print('y_min = {:10,.0f}'.format(y_min).replace(',', ' '))\n",
    "print('y_max = {:10,.0f}'.format(y_max).replace(',', ' '))\n"
   ]
  },
  {
   "cell_type": "code",
   "execution_count": 11,
   "id": "limited-diary",
   "metadata": {},
   "outputs": [
    {
     "name": "stdout",
     "output_type": "stream",
     "text": [
      "46\n"
     ]
    },
    {
     "data": {
      "image/png": "[encoded data removed]",
      "text/plain": [
       "<Figure size 432x288 with 1 Axes>"
      ]
     },
     "metadata": {
      "needs_background": "light"
     },
     "output_type": "display_data"
    }
   ],
   "source": [
    "bati_bbox = bati.cx[x_min:x_max, y_min:y_max]\n",
    "\n",
    "print(len(bati_bbox))\n",
    "ax = bati_bbox.plot()"
   ]
  },
  {
   "cell_type": "code",
   "execution_count": null,
   "id": "entire-governor",
   "metadata": {},
   "outputs": [],
   "source": [
    "bati_bbox[['USAGE1','USAGE2','HAUTEUR']].head()"
   ]
  },
  {
   "cell_type": "code",
   "execution_count": null,
   "id": "saved-subscriber",
   "metadata": {},
   "outputs": [],
   "source": [
    "m = draw_map(adresse)\n",
    "folium.GeoJson(data=bati_bbox[\"geometry\"]).add_to(m)\n",
    "m"
   ]
  },
  {
   "cell_type": "code",
   "execution_count": null,
   "id": "through-thinking",
   "metadata": {},
   "outputs": [],
   "source": [
    "# parse material table\n",
    "#\n",
    "# murs : http://piece-jointe-carto.developpement-durable.gouv.fr/NAT004/DTerNP/html3/annexes/desc_pb40_pevprincipale_dmatgm.html\n",
    "# toits : http://piece-jointe-carto.developpement-durable.gouv.fr/NAT004/DTerNP/html3/annexes/desc_pb40_pevprincipale_dmatto.html\n",
    "\n",
    "wall_html = open('data/MATERIAU_MUR.html','r').read()\n",
    "soup = BeautifulSoup(wall_html, \"html.parser\")\n",
    "\n",
    "table_mat = soup.find('table', class_='tableau_descriptif')\n",
    "list_mat = []\n",
    "for row in table_mat.findAll(\"tr\"):\n",
    "    code_mat, mat = row.findAll(\"td\")[0:2]\n",
    "    list_mat.append([code_mat.text,mat.text])\n",
    "    \n",
    "wall_df=pd.DataFrame(list_mat[1:],columns=['code','valeur']).rename(columns={'valeur':'MURS'})"
   ]
  },
  {
   "cell_type": "code",
   "execution_count": null,
   "id": "occupational-richards",
   "metadata": {},
   "outputs": [],
   "source": [
    "wall_df.head()"
   ]
  },
  {
   "cell_type": "code",
   "execution_count": null,
   "id": "second-arcade",
   "metadata": {},
   "outputs": [],
   "source": [
    "roof_html = open('data/MATERIAU_TOIT.html','r',encoding='cp1256').read()\n",
    "soup = BeautifulSoup(roof_html, \"html.parser\")\n",
    "\n",
    "table_mat = soup.find('table', class_='tableau_descriptif')\n",
    "list_mat = []\n",
    "for row in table_mat.findAll(\"tr\"):\n",
    "    code_mat, mat = row.findAll(\"td\")[0:2]\n",
    "    list_mat.append([code_mat.text,mat.text])\n",
    "    \n",
    "roof_df=pd.DataFrame(list_mat[1:],columns=['code','valeur']).rename(columns={'valeur':'TOITS'})"
   ]
  },
  {
   "cell_type": "code",
   "execution_count": null,
   "id": "lonely-rwanda",
   "metadata": {},
   "outputs": [],
   "source": [
    "roof_df.head()"
   ]
  },
  {
   "cell_type": "code",
   "execution_count": null,
   "id": "impaired-stick",
   "metadata": {},
   "outputs": [],
   "source": [
    "bati_bbox.merge(wall_df,how='inner',left_on='MAT_MURS',right_on='code')\\\n",
    "         .merge(roof_df,how='inner',left_on='MAT_TOITS',right_on='code')\\\n",
    "         [['USAGE1','USAGE2','HAUTEUR','MURS','TOITS']].head()"
   ]
  },
  {
   "cell_type": "code",
   "execution_count": null,
   "id": "atlantic-plumbing",
   "metadata": {},
   "outputs": [],
   "source": []
  }
 ],
 "metadata": {
  "kernelspec": {
   "display_name": "lewagon",
   "language": "python",
   "name": "lewagon"
  },
  "language_info": {
   "codemirror_mode": {
    "name": "ipython",
    "version": 3
   },
   "file_extension": ".py",
   "mimetype": "text/x-python",
   "name": "python",
   "nbconvert_exporter": "python",
   "pygments_lexer": "ipython3",
   "version": "3.8.6"
  }
 },
 "nbformat": 4,
 "nbformat_minor": 5
}
